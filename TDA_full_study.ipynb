{
 "cells": [
  {
   "cell_type": "code",
   "execution_count": 1,
   "id": "4896e3c9-0fe3-48e7-b501-de089f1c2a87",
   "metadata": {},
   "outputs": [],
   "source": [
    "import numpy as np\n",
    "import os\n",
    "import matplotlib.pyplot as plt \n",
    "from prettytable import PrettyTable \n",
    "from gtda.plotting import plot_point_cloud, plot_diagram, plot_heatmap\n",
    "from gtda.homology import VietorisRipsPersistence\n",
    "from gtda.diagrams import PersistenceEntropy, NumberOfPoints, Amplitude, PersistenceImage, HeatKernel\n",
    "\n",
    "\n"
   ]
  },
  {
   "cell_type": "markdown",
   "id": "1877df9b",
   "metadata": {},
   "source": [
    "# Basic functions"
   ]
  },
  {
   "cell_type": "code",
   "execution_count": 3,
   "id": "91f7b3d6",
   "metadata": {},
   "outputs": [],
   "source": [
    "BASE_PATH = \"./\""
   ]
  },
  {
   "cell_type": "markdown",
   "id": "43e648be",
   "metadata": {},
   "source": [
    "### Plot 3d graph"
   ]
  },
  {
   "cell_type": "code",
   "execution_count": 4,
   "id": "031ea816",
   "metadata": {},
   "outputs": [],
   "source": [
    "def plot3dEntropyValues(data, labels, groups_per_label, noise):\n",
    "    output_base_path = \"./output/plotEntropy/\"\n",
    "    os.makedirs(output_base_path, exist_ok=True)  # Ensure the directory exists\n",
    "    colors = ['g', 'y', 'b', 'k', 'pink']\n",
    "    fig = plt.figure()\n",
    "    ax = fig.add_subplot(projection='3d')\n",
    "    for i in range(len(labels)):\n",
    "        data_group = data[groups_per_label*i:groups_per_label*(i+1)]\n",
    "        ax.scatter([p[0] for p in data_group], \n",
    "                [p[1] for p in data_group],\n",
    "                [p[2] for p in data_group], c=colors[i], label=labels[i])\n",
    "                \n",
    "        ax.set_xlabel(\"H0\")\n",
    "        ax.set_ylabel(\"H1\")\n",
    "        ax.set_zlabel(\"H2\")\n",
    "    plt.title(f\"Entropy values of data with {noise} noise std\")\n",
    "    plt.legend()\n",
    "    # Save the figure to the specified output path\n",
    "    output_file_path = os.path.join(output_base_path, f\"plot_entropy_{noise}_noise.png\")\n",
    "    plt.savefig(output_file_path, dpi=300)  # Save as a high-resolution PNG\n",
    "    plt.show()"
   ]
  },
  {
   "cell_type": "code",
   "execution_count": 5,
   "id": "a22ceb54",
   "metadata": {},
   "outputs": [],
   "source": [
    "def plot3dGeneric(data, data_label, title, axis_labels, save_fig=False, color='b', x_limits=None, y_limits=None, z_limits=None):\n",
    "    fig = plt.figure()\n",
    "    ax = fig.add_subplot(projection='3d')\n",
    "    \n",
    "    # Scatter plot\n",
    "    ax.scatter(\n",
    "        [p[0] for p in data], \n",
    "        [p[2] for p in data], \n",
    "        [p[1] for p in data], \n",
    "        c=color, label=data_label\n",
    "    )\n",
    "    \n",
    "    # Set axis labels\n",
    "    ax.set_xlabel(axis_labels[0])\n",
    "    ax.set_ylabel(axis_labels[2])\n",
    "    ax.set_zlabel(axis_labels[1])\n",
    "    \n",
    "    # Set axis limits if provided\n",
    "    if x_limits:\n",
    "        ax.set_xlim(x_limits)\n",
    "    if y_limits:\n",
    "        ax.set_ylim(y_limits)\n",
    "    if z_limits:\n",
    "        ax.set_zlim(z_limits)\n",
    "    \n",
    "    # Set title and legend\n",
    "    plt.title(title)\n",
    "    plt.legend()\n",
    "    \n",
    "    # Save the figure\n",
    "    if save_fig:\n",
    "        output_file_path = os.path.join(\"BASE_PATH\", f\"output/{title}.png\")\n",
    "        plt.savefig(output_file_path, dpi=300)\n",
    "    \n",
    "    plt.show()"
   ]
  },
  {
   "cell_type": "code",
   "execution_count": 6,
   "id": "251552f6",
   "metadata": {},
   "outputs": [],
   "source": [
    "def plot3dGenericClasses(data, data_label, title, axis_labels, save_fig=False, x_limits=None, y_limits=None, z_limits=None, colors=None):\n",
    "    fig = plt.figure()\n",
    "    ax = fig.add_subplot(projection='3d')\n",
    "    \n",
    "    # Scatter plot\n",
    "    i = 0\n",
    "    for label in data_label:\n",
    "        #Extract the data points\n",
    "        x_vals = [p[0] for p in data[label]]\n",
    "        y_vals = [p[2] for p in data[label]]\n",
    "        z_vals = [p[1] for p in data[label]]\n",
    "        \n",
    "        # Plot the first value as an 'X'\n",
    "        ax.scatter(x_vals[0], z_vals[0], y_vals[0], label=\"No Noise (First Point)\" if i == 0 else None, marker='x', color=colors[i] if colors else None)\n",
    "        \n",
    "        # Plot the last value as a triangle\n",
    "        ax.scatter(x_vals[-1], z_vals[-1], y_vals[-1], label=\"0.001 Noise (Best KNN Accuracy)\" if i == 0 else None, marker='^', color=colors[i] if colors else None)\n",
    "        \n",
    "        # Plot intermediate values as circles\n",
    "        if len(x_vals) > 2:  # Check to avoid errors with very small data sets\n",
    "            ax.scatter(x_vals[1:-1], z_vals[1:-1], y_vals[1:-1], label=label, marker='o', color=colors[i] if colors else None)\n",
    "        \n",
    "        i += 1\n",
    "    \n",
    "    # Set axis labels\n",
    "    ax.set_xlabel(axis_labels[0])\n",
    "    ax.set_ylabel(axis_labels[2])\n",
    "    ax.set_zlabel(axis_labels[1])\n",
    "    \n",
    "    # Set axis limits if provided\n",
    "    if x_limits:\n",
    "        ax.set_xlim(x_limits)\n",
    "    if y_limits:\n",
    "        ax.set_ylim(y_limits)\n",
    "    if z_limits:\n",
    "        ax.set_zlim(z_limits)\n",
    "    \n",
    "    # Set title and legend\n",
    "    plt.title(title)\n",
    "    plt.legend()\n",
    "    ax.legend(bbox_to_anchor=(1.15, 0.5), loc='center left')\n",
    "    \n",
    "    # Save the figure\n",
    "    if save_fig:\n",
    "        output_file_path = os.path.join(\"BASE_PATH\", f\"output/{title}.png\")\n",
    "        plt.savefig(output_file_path, dpi=300)\n",
    "    \n",
    "    plt.show()"
   ]
  },
  {
   "cell_type": "markdown",
   "id": "1becde89",
   "metadata": {},
   "source": [
    "### Load dataset"
   ]
  },
  {
   "cell_type": "code",
   "execution_count": 7,
   "id": "141d9435",
   "metadata": {},
   "outputs": [],
   "source": [
    "def loadFigures(OPTION, samples, figures, maximum_samples_per_figure, noise_mean=0.0, noise_std=0.01):\n",
    "    #OPTION : Lets you choose where to get data from \n",
    "    #samples : Number of samples per group \n",
    "    #figures : The Different Shapes \n",
    "    # maximum_samples_per_figure : Maximum number of presampling before shuffling and partitioning\n",
    "    # #noise_mean, noise_std : Gaussian noise parameters \n",
    "    #This function works by first obtaining all or at most maximum_samples_per_figure for each data set of that figure, then shuffling and partitioning them according to samples\n",
    "    #Then the function returns a list of data and labels where the ith element of data is a an array of samples, and the ith element of label is the label of the correspoonding figure of \n",
    "    # the ith element of data  \n",
    "    data = []\n",
    "    labels = []\n",
    "    for index, figure in enumerate(figures):\n",
    "        #print(figure)\n",
    "        data_fig = []\n",
    "        \n",
    "        DATASET_DIR = \"\"\n",
    "        match(OPTION):\n",
    "            case \"virtual-standard\":\n",
    "                DATASET_DIR = f'../../Datasets/haptic/digital_haptic/21K_random_angles_test/FINGERDIST/1.0/BL/{figure}_VEL_10_NOISE_0.000000.txt'\n",
    "            case \"virtual-face\":\n",
    "                DATASET_DIR = 'haptic_one-side_21k/'+figure+'_VEL_1.txt'\n",
    "            case \"virtual-2.5\":\n",
    "                DATASET_DIR = BASE_PATH + 'new_haptic_system/21K_random_angles_test/FINGERDIST/2.5/BL/'+figure+'_VEL_10_NOISE_0.000000.txt'\n",
    "            case \"real\":\n",
    "                DATASET_DIR = BASE_PATH + 'RealRobot/output/'+figure+'.txt'\n",
    "\n",
    "        # Read samples\n",
    "        with open(DATASET_DIR, 'r') as file:\n",
    "            i = 0\n",
    "            for line in file:\n",
    "                # Split each line by spaces and extend the data_list\n",
    "                sample = np.array(line.split()[0:3], dtype='float32')  # Values\n",
    "                # Add Gaussian noise to the sample\n",
    "                noisy_sample = sample + np.random.normal(noise_mean, noise_std, sample.shape)\n",
    "                data_fig.append(noisy_sample)\n",
    "                i = i+1\n",
    "                if (i == maximum_samples_per_figure): \n",
    "                    break\n",
    "        \n",
    "        #All shuffle\n",
    "        data_fig = np.array(data_fig)\n",
    "        #print(f\"\\tOriginal Data shape: {data_fig.shape}\")\n",
    "        np.random.shuffle(data_fig)\n",
    "        \n",
    "        #plot3dGeneric(data_fig, figure, f\"Point cloud of figure {figure} - noise std = {noise_std}\", [\"1st finger\", \"2nd finger\", \"3rd finger\"], x_limits=(0, 1.2), y_limits=(0, 1.2), z_limits=(0, 0.9))\n",
    "\n",
    "        minimum = min(int(data_fig.shape[0]/samples), 200)\n",
    "        #print(f\"\\t{minimum} groups with {samples} samples each\")\n",
    "        for i in range(minimum):\n",
    "            group = []\n",
    "            for j in range(samples):\n",
    "                group.append(data_fig[i*samples+j])\n",
    "            if i < 0:\n",
    "                plot3dGeneric(group, figure, f\"Point cloud - {samples} samples of figure {figure} - noise std = {noise_std}\", [\"1st finger\", \"2nd finger\", \"3rd finger\"], x_limits=(0, 1.2), y_limits=(0, 1.2), z_limits=(0, 0.9))\n",
    "            data.append(group)\n",
    "            labels.append(index)\n",
    "\n",
    "    # Convert images and labels to numpy arrays\n",
    "    data = np.array(data, dtype='float32')\n",
    "    labels = np.array(labels, dtype='float32')\n",
    "\n",
    "    return data, labels"
   ]
  },
  {
   "cell_type": "markdown",
   "id": "0212e9cb",
   "metadata": {},
   "source": [
    "# TDA functions"
   ]
  },
  {
   "cell_type": "markdown",
   "id": "7c96314f",
   "metadata": {},
   "source": [
    "### Persistence diagrams using Vietoris Rips"
   ]
  },
  {
   "cell_type": "code",
   "execution_count": 8,
   "id": "3e205d2e-98ef-4390-aee5-9140803725f9",
   "metadata": {},
   "outputs": [],
   "source": [
    "HOMOLOGY_DIMENSIONS = [0, 1, 2]\n",
    "\n",
    "def getPersistenceDiagrams(data_in):\n",
    "    persistence = VietorisRipsPersistence(\n",
    "        metric=\"euclidean\",\n",
    "        homology_dimensions=HOMOLOGY_DIMENSIONS,\n",
    "        n_jobs=6,\n",
    "        collapse_edges=True,\n",
    "    )\n",
    "    \n",
    "    try:\n",
    "        diagrams = persistence.fit_transform(data_in)\n",
    "    except Exception as e:\n",
    "        print(e)\n",
    "    return diagrams"
   ]
  },
  {
   "cell_type": "markdown",
   "id": "13f402ce",
   "metadata": {},
   "source": [
    "### Persistence Entropy"
   ]
  },
  {
   "cell_type": "code",
   "execution_count": 9,
   "id": "2182f7d3",
   "metadata": {},
   "outputs": [],
   "source": [
    "def getPersistenceEntropy(diagrams_in):\n",
    "    persistence_entropy = PersistenceEntropy()\n",
    "    entropy_values = persistence_entropy.fit_transform(diagrams_in)\n",
    "    return entropy_values"
   ]
  },
  {
   "cell_type": "markdown",
   "id": "b66f0d5e",
   "metadata": {},
   "source": [
    "### Persistence Image"
   ]
  },
  {
   "cell_type": "code",
   "execution_count": 10,
   "id": "5292ab48",
   "metadata": {},
   "outputs": [],
   "source": [
    "def getPersistenceImage(diagrams_in):\n",
    "    PI = PersistenceImage(n_jobs = -1)\n",
    "    persistence_images = PI.fit_transform(diagrams_in)\n",
    "    return persistence_images"
   ]
  },
  {
   "cell_type": "markdown",
   "id": "1cb07c90",
   "metadata": {},
   "source": [
    "### Table of metrics"
   ]
  },
  {
   "cell_type": "code",
   "execution_count": null,
   "id": "9b292f50",
   "metadata": {},
   "outputs": [],
   "source": []
  },
  {
   "cell_type": "code",
   "execution_count": 11,
   "id": "be5cc2fb",
   "metadata": {},
   "outputs": [],
   "source": [
    "import pandas as pd\n",
    "\n",
    "def generateTableOfMetrics(diagrams_in, entropy_values, groups_per_label, figures, noise, show=False):\n",
    "    '''\n",
    "    diagrams_in : list of persistence diagrams \n",
    "    entropy_values : list of entropy values \n",
    "    groups_per_label : number of groups per label \n",
    "\n",
    "    For every persistence diagram, each metric computes a vector of norms of the each persistence subdiagram (separated according to homology dimension) induced by the metric.\n",
    "    This fuction then returns a table of the mean of these norms for each figure\n",
    "    '''\n",
    "    output_base_path = \"./output/metricsTable/\"\n",
    "    os.makedirs(output_base_path, exist_ok=True)  # Ensure the directory exists\n",
    "    #print(\"\\tNumber of points in process...\")\n",
    "    n_points = NumberOfPoints().fit_transform(diagrams_in)\n",
    "    #print(\"\\twasserstein in process...\")\n",
    "    wass_dist = Amplitude(metric='wasserstein').fit_transform(diagrams_in)\n",
    "    #print(\"\\tbottleneck in process...\")\n",
    "    bot_dist = Amplitude(metric='bottleneck').fit_transform(diagrams_in)\n",
    "    land_dist = Amplitude(metric='landscape').fit_transform(diagrams_in)\n",
    "    #print(\"\\tlandscape in process...\")\n",
    "    #print(\"\\tpersistence_image in process...\")\n",
    "    #img_dist = Amplitude(metric='persistence_image').fit_transform(diagrams_in)\n",
    "    #print(\"\\tbett iin process...\")\n",
    "    betti = Amplitude(metric='betti').fit_transform(diagrams_in)\n",
    "\n",
    "    # Prepare table data\n",
    "    table_data = []\n",
    "    # so each type of object compute the \n",
    "    for i in range(len(figures)):\n",
    "        row = [\n",
    "            figures[i],\n",
    "            [float(\"{:.2f}\".format(x)) for x in np.mean(entropy_values[groups_per_label * i:groups_per_label * (i + 1)], axis=0)],\n",
    "            [float(\"{:.2f}\".format(x)) for x in np.mean(n_points[groups_per_label * i:groups_per_label * (i + 1)], axis=0)],\n",
    "            [float(\"{:.2f}\".format(x)) for x in np.mean(wass_dist[groups_per_label * i:groups_per_label * (i + 1)], axis=0)],\n",
    "            [float(\"{:.2f}\".format(x)) for x in np.mean(bot_dist[groups_per_label * i:groups_per_label * (i + 1)], axis=0)],\n",
    "            [float(\"{:.2f}\".format(x)) for x in np.mean(land_dist[groups_per_label * i:groups_per_label * (i + 1)], axis=0)],\n",
    "            [float(\"{:.2f}\".format(x)) for x in np.mean(betti[groups_per_label * i:groups_per_label * (i + 1)], axis=0)],\n",
    "        ]\n",
    "        table_data.append(row)\n",
    "    # for i in range(len(table_data)):\n",
    "    #     print(table_data[i])\n",
    "    # Save table data as .npy\n",
    "\n",
    "    table_data_num = [row[1:] for row in table_data]\n",
    "    output_file_path = os.path.join(output_base_path, f\"metrics_table_{noise}_noise.npy\")\n",
    "    np.save(output_file_path, table_data_num)   \n",
    "    table = PrettyTable(['Figure', 'Entropy centroid', 'Number of points', 'Wasserstein distance', 'Bottleneck distance', 'Landscape distance', 'Betti numbers'])\n",
    "    for row in table_data:\n",
    "        table.add_row(row)\n",
    "    if show:\n",
    "        print(table)    \n",
    "    return table_data"
   ]
  },
  {
   "cell_type": "code",
   "execution_count": 12,
   "id": "065569ca",
   "metadata": {},
   "outputs": [],
   "source": [
    "import pandas as pd\n",
    "\n",
    "def generateTableOfMetrics(diagrams_in, entropy_values, groups_per_label, figures, noise, show=False):\n",
    "    '''\n",
    "    diagrams_in : list of persistence diagrams \n",
    "    entropy_values : list of entropy values \n",
    "    groups_per_label : number of groups per label \n",
    "\n",
    "    For every persistence diagram, each metric computes a vector of norms of the each persistence subdiagram (separated according to homology dimension) induced by the metric.\n",
    "    This fuction then returns a table of the mean of these norms for each figure\n",
    "    '''\n",
    "    output_base_path = \"./output/metricsTable/\"\n",
    "    os.makedirs(output_base_path, exist_ok=True)  # Ensure the directory exists\n",
    "    #print(\"\\tNumber of points in process...\")\n",
    "    n_points = NumberOfPoints().fit_transform(diagrams_in)\n",
    "    #print(\"\\twasserstein in process...\")\n",
    "    wass_dist = Amplitude(metric='wasserstein').fit_transform(diagrams_in)\n",
    "    #print(\"\\tbottleneck in process...\")\n",
    "    bot_dist = Amplitude(metric='bottleneck').fit_transform(diagrams_in)\n",
    "    land_dist = Amplitude(metric='landscape').fit_transform(diagrams_in)\n",
    "    #print(\"\\tlandscape in process...\")\n",
    "    #print(\"\\tpersistence_image in process...\")\n",
    "    #img_dist = Amplitude(metric='persistence_image').fit_transform(diagrams_in)\n",
    "    #print(\"\\tbett iin process...\")\n",
    "    betti = Amplitude(metric='betti').fit_transform(diagrams_in)\n",
    "\n",
    "    # Prepare table data\n",
    "    table_data = []\n",
    "    # so each type of object compute the \n",
    "    for i in range(len(figures)):\n",
    "        row = [\n",
    "            figures[i],\n",
    "            [float(\"{:.2f}\".format(x)) for x in np.mean(entropy_values[groups_per_label * i:groups_per_label * (i + 1)], axis=0)],\n",
    "            [float(\"{:.2f}\".format(x)) for x in np.mean(n_points[groups_per_label * i:groups_per_label * (i + 1)], axis=0)],\n",
    "            [float(\"{:.2f}\".format(x)) for x in np.mean(wass_dist[groups_per_label * i:groups_per_label * (i + 1)], axis=0)],\n",
    "            [float(\"{:.2f}\".format(x)) for x in np.mean(bot_dist[groups_per_label * i:groups_per_label * (i + 1)], axis=0)],\n",
    "            [float(\"{:.2f}\".format(x)) for x in np.mean(land_dist[groups_per_label * i:groups_per_label * (i + 1)], axis=0)],\n",
    "            [float(\"{:.2f}\".format(x)) for x in np.mean(betti[groups_per_label * i:groups_per_label * (i + 1)], axis=0)],\n",
    "        ]\n",
    "        table_data.append(row)\n",
    "    # for i in range(len(table_data)):\n",
    "    #     print(table_data[i])\n",
    "    # Save table data as .npy\n",
    "\n",
    "    table_data_num = [row[1:] for row in table_data]\n",
    "    output_file_path = os.path.join(output_base_path, f\"metrics_table_{noise}_noise.npy\")\n",
    "    np.save(output_file_path, table_data_num)   \n",
    "    table = PrettyTable(['Figure', 'Entropy centroid', 'Number of points', 'Wasserstein distance', 'Bottleneck distance', 'Landscape distance', 'Betti numbers'])\n",
    "    for row in table_data:\n",
    "        table.add_row(row)\n",
    "    if show:\n",
    "        print(table)    \n",
    "    return table_data"
   ]
  },
  {
   "cell_type": "markdown",
   "id": "a9611158",
   "metadata": {},
   "source": [
    "# KNN"
   ]
  },
  {
   "cell_type": "code",
   "execution_count": 13,
   "id": "f66bb10e",
   "metadata": {},
   "outputs": [],
   "source": [
    "from sklearn.neighbors import KNeighborsClassifier\n",
    "from sklearn.model_selection import train_test_split"
   ]
  },
  {
   "cell_type": "code",
   "execution_count": 14,
   "id": "3eae9ae6",
   "metadata": {},
   "outputs": [],
   "source": [
    "def KNN_classifications(entropy_values, expected_output, groups_per_figure, test_size=0.2, random_state=None):\n",
    "    \"\"\"\n",
    "    entropy_values : array of entropy values \n",
    "    expected_output : array of the corresponding figure labeles \n",
    "    groups_per_figure : not used \n",
    "    test_size : proportion of the test set\n",
    "    random_state : seed for reproduction\n",
    "    \"\"\"\n",
    "    # Ensure inputs are numpy arrays for consistency\n",
    "    entropy_values = np.array(entropy_values)\n",
    "    expected_output = np.array(expected_output)\n",
    "    \n",
    "    # Validate inputs\n",
    "    if len(entropy_values) != len(expected_output):\n",
    "        raise ValueError(\"Length of entropy_values and expected_output must be the same.\")\n",
    "    \n",
    "    # Split the data into training and testing sets\n",
    "    X_train, X_test, y_train, y_test = train_test_split(\n",
    "        entropy_values,  # Reshape to 2D array\n",
    "        expected_output,\n",
    "        test_size=test_size,\n",
    "        random_state=random_state\n",
    "    )\n",
    "    \n",
    "    # Initialize the KNN model\n",
    "    knn = KNeighborsClassifier(n_neighbors=10)\n",
    "    \n",
    "    # Fit the model using the training data\n",
    "    knn.fit(X_train, y_train)\n",
    "    \n",
    "    # Predict on the training set\n",
    "    train_predictions = knn.predict(X_train)\n",
    "    # Predict on the test set\n",
    "    test_predictions = knn.predict(X_test)\n",
    "    \n",
    "    # Calculate accuracy\n",
    "    train_accuracy = knn.score(X_train, y_train)\n",
    "    test_accuracy = knn.score(X_test, y_test)\n",
    "    \n",
    "    return {\n",
    "        \"train_predictions\": train_predictions,\n",
    "        \"test_predictions\": test_predictions,\n",
    "        \"train_accuracy\": train_accuracy,\n",
    "        \"test_accuracy\": test_accuracy,\n",
    "        \"knn_model\": knn\n",
    "    }"
   ]
  },
  {
   "cell_type": "markdown",
   "id": "20c528b2",
   "metadata": {},
   "source": [
    "# Main"
   ]
  },
  {
   "cell_type": "code",
   "execution_count": 15,
   "id": "01886077-716c-46f1-b5a0-d0049726dcca",
   "metadata": {},
   "outputs": [],
   "source": [
    "# virtual-standard  virtual-face  virtual-2.5  real\n",
    "OPTION = \"virtual-face\"\n",
    "FIGURES = ['lat00', 'lat05', 'lat10', 'lat15', 'lat20']\n",
    "MAXIMUM_SAMPLES_PER_FIGURE = 21000"
   ]
  },
  {
   "cell_type": "markdown",
   "id": "5c4d8a59",
   "metadata": {},
   "source": [
    "## Study of noise and number of groups"
   ]
  },
  {
   "cell_type": "code",
   "execution_count": 16,
   "id": "e131bca5",
   "metadata": {},
   "outputs": [],
   "source": [
    "num_of_samples_per_group = [10, 50, 100, 200, 400]"
   ]
  },
  {
   "cell_type": "markdown",
   "id": "db8700e6",
   "metadata": {},
   "source": [
    "Through KNN classification for verification"
   ]
  },
  {
   "cell_type": "markdown",
   "id": "3a3b0353",
   "metadata": {},
   "source": [
    "So we want to see if these other metrics are able to potentially be useful in classifying the convexities. \\\n",
    "So want to obtain these metric (norms) for each homology dimension. \\\n",
    "For each noise level \\\n",
    "For each and sample_group_size \\\n",
    "So pretty much copy the code for the effectiveness of kNN, but instead of running the kNN, just make a plot of each norm \n"
   ]
  },
  {
   "cell_type": "code",
   "execution_count": 17,
   "id": "2d597a2a",
   "metadata": {},
   "outputs": [
    {
     "name": "stdout",
     "output_type": "stream",
     "text": [
      "[10, 50, 100, 200, 400]\n"
     ]
    }
   ],
   "source": [
    "print(num_of_samples_per_group)"
   ]
  },
  {
   "cell_type": "code",
   "execution_count": 42,
   "id": "d6247a2c",
   "metadata": {},
   "outputs": [],
   "source": [
    "import pandas as pd\n",
    "\n",
    "noise_values = {}\n",
    "test_accuracy_valies = {}\n",
    "NUM_EXPERIMENTS = 10\n",
    "translate = {0 : \"entropy\", 1 : \"n_points\", 2 : \"wass_dist\", 3 : \"bot_dist\", 4 : \"land_dist\", 5 : \"betti\"}\n",
    "# Create an empty DataFrame with the specified columns\n",
    "df = pd.DataFrame(columns=['num_samp', 'noise', 'fig', 'norm', 'data'])\n",
    "for i in range(NUM_EXPERIMENTS):\n",
    "    for samples_per_group in num_of_samples_per_group: \n",
    "        if i == 0:\n",
    "            noise_values[samples_per_group] = []\n",
    "        noise = 0\n",
    "        noise_increment = 0.0001 \n",
    "        MAX_NOISE = 0.05\n",
    "        j = 0 \n",
    "        while noise <= MAX_NOISE:\n",
    "            data, labels = loadFigures(OPTION, samples_per_group, FIGURES, MAXIMUM_SAMPLES_PER_FIGURE, noise_std=noise)\n",
    "            groups_per_figure = int(data.shape[0]/len(FIGURES))\n",
    "            fig_1_dat = data[:groups_per_figure]\n",
    "            fig_2_dat = data[groups_per_figure : 2 * groups_per_figure]\n",
    "            fig_3_dat = data[2 * groups_per_figure : 3 * groups_per_figure]\n",
    "            fig_4_dat = data[3 * groups_per_figure : 4 * groups_per_figure]\n",
    "            fig_5_dat = data[4 * groups_per_figure : 5 * groups_per_figure]\n",
    "\n",
    "            for k, data in enumerate([fig_1_dat, fig_2_dat, fig_3_dat, fig_4_dat, fig_5_dat]):\n",
    "                diagrams = getPersistenceDiagrams(data)\n",
    "                entropy_values = getPersistenceEntropy(diagrams)\n",
    "                n_points = NumberOfPoints().fit_transform(diagrams)\n",
    "                wass_dist = Amplitude(metric='wasserstein').fit_transform(diagrams)\n",
    "                bot_dist = Amplitude(metric='bottleneck').fit_transform(diagrams)\n",
    "                land_dist = Amplitude(metric='landscape').fit_transform(diagrams)\n",
    "                betti = Amplitude(metric='betti').fit_transform(diagrams) \n",
    "                YY = [entropy_values, n_points, wass_dist, bot_dist, land_dist, betti]\n",
    "                for ind, x in enumerate(YY):\n",
    "\n",
    "                    \n",
    "                    #df = pd.concat([df, pd.DataFrame({'num_samp': samples_per_group, 'noise': noise, 'fig': k+1, 'norm': translate[ind], 'data': x})], ignore_index=True)\n",
    "                    df.loc[len(df)] = [samples_per_group, noise, k+1, translate[ind], x]\n",
    "            j += 1\n",
    "            noise += noise_increment\n",
    "            if noise >= noise_increment*10:\n",
    "                noise_increment*=5\n",
    "\n",
    "                    \n",
    "            \n",
    "            "
   ]
  },
  {
   "cell_type": "code",
   "execution_count": 43,
   "id": "7bbb56c8",
   "metadata": {},
   "outputs": [],
   "source": [
    "import plotly.graph_objects as go\n",
    "def plot_norms(norm, noise, num_samp):\n",
    "    eps = 0.00003\n",
    "    temp_df = df[(df['norm'] == norm) & (abs(df['noise'] - noise)<= eps) & (df['num_samp'] == num_samp)]\n",
    "    data_1 = temp_df[temp_df['fig'] == 1].data.iloc[0]\n",
    "    data_2 = temp_df[temp_df['fig'] == 2].data.iloc[0]\n",
    "    data_3 = temp_df[temp_df['fig'] == 3].data.iloc[0]\n",
    "    data_4 = temp_df[temp_df['fig'] == 4].data.iloc[0]\n",
    "    data_5 = temp_df[temp_df['fig'] == 5].data.iloc[0]\n",
    "\n",
    "    fig = go.Figure()\n",
    "\n",
    "    for data, color, name in zip([data_1, data_2, data_3, data_4, data_5], \n",
    "                                 ['red', 'blue', 'green', 'purple', 'orange'], \n",
    "                                 FIGURES):\n",
    "        x_coords = [point[0] for point in data]\n",
    "        y_coords = [point[1] for point in data]\n",
    "        z_coords = [point[2] for point in data]\n",
    "        \n",
    "        fig.add_trace(go.Scatter3d(\n",
    "            x=x_coords,\n",
    "            y=y_coords,\n",
    "            z=z_coords,\n",
    "            mode='markers',\n",
    "            marker=dict(\n",
    "                size=5,\n",
    "                color=color,\n",
    "                opacity=0.8\n",
    "            ),\n",
    "            name=name\n",
    "        ))\n",
    "    fig.update_layout(\n",
    "        scene=dict(\n",
    "            xaxis_title='X',\n",
    "            yaxis_title='Y',\n",
    "            zaxis_title='Z'\n",
    "        ),\n",
    "        title=f'3D Scatter Plot of {norm} for {num_samp} samples per group and {noise} noise'\n",
    "    )\n",
    "\n",
    "    fig.show()\n",
    "\n"
   ]
  },
  {
   "cell_type": "code",
   "execution_count": 44,
   "id": "ece50f88",
   "metadata": {},
   "outputs": [
    {
     "data": {
      "text/plain": [
       "array([0.    , 0.0001, 0.0002, 0.0003, 0.0004, 0.0005, 0.0006, 0.0007,\n",
       "       0.0008, 0.0009, 0.001 , 0.0015, 0.002 , 0.0025, 0.003 , 0.0035,\n",
       "       0.004 , 0.0045, 0.005 , 0.0075, 0.01  , 0.0125, 0.015 , 0.0175,\n",
       "       0.02  , 0.0225, 0.025 , 0.0275, 0.04  ])"
      ]
     },
     "execution_count": 44,
     "metadata": {},
     "output_type": "execute_result"
    }
   ],
   "source": [
    "df.noise.unique()"
   ]
  },
  {
   "cell_type": "code",
   "execution_count": 61,
   "id": "1763b8da",
   "metadata": {},
   "outputs": [
    {
     "data": {
      "application/vnd.plotly.v1+json": {
       "config": {
        "plotlyServerURL": "https://plot.ly"
       },
       "data": [
        {
         "marker": {
          "color": "red",
          "opacity": 0.8,
          "size": 5
         },
         "mode": "markers",
         "name": "lat00",
         "type": "scatter3d",
         "x": [
          15.470354086004123,
          16.016080502246847,
          16.061787092068556,
          15.557566092300528,
          15.283172102634552,
          16.3887263094207,
          15.713391507738855,
          15.949022879786359,
          16.152657732731228,
          15.85588329762939,
          15.474333819721135,
          15.10832630144332,
          15.46223010039457,
          16.24450556930192,
          16.28338913096171,
          15.75326911496184,
          15.533211087466952,
          16.547033669811135,
          16.331608648082245,
          15.306620282805763,
          15.47325831695227
         ],
         "y": [
          0.2617264372957435,
          0.20024481793535764,
          0.44495371821735563,
          0.31529286868474166,
          0.20640763383251437,
          0.2757156153768609,
          0.2162891235398241,
          0.34803640048327017,
          0.445891451013481,
          0.3712638289552365,
          0.2162891235398241,
          0.22011754683473211,
          0.12262440689453588,
          0.38125477475517794,
          0.22200700249316027,
          0.38125477475517794,
          0.25689414898971513,
          0.35280424457081233,
          0.3003672269030365,
          0.16853112730163,
          0.17341709930820953
         ],
         "z": [
          0,
          0.01574079755865663,
          0.0385569221631559,
          0,
          0,
          0,
          0.03148159511731326,
          0.035197493361218954,
          0,
          0,
          0,
          0,
          0,
          0,
          0,
          0,
          0,
          0,
          0,
          0,
          0
         ]
        },
        {
         "marker": {
          "color": "blue",
          "opacity": 0.8,
          "size": 5
         },
         "mode": "markers",
         "name": "lat05",
         "type": "scatter3d",
         "x": [
          13.210051072113862,
          14.416897743858106,
          13.588046781046518,
          14.002132769998733,
          14.302711890595935,
          13.939893267340366,
          13.374914097907347,
          14.969812564622428,
          13.878151374181435,
          13.739605198211832,
          13.85079513661791,
          14.303242241476477,
          13.873461453391895,
          14.171163668918805,
          13.664050731947652,
          13.99799778367791,
          13.841193257728568,
          13.689126342609374,
          14.295927247025274,
          13.491478078677698,
          14.098828412910006
         ],
         "y": [
          0.3855342356772172,
          0.4258531822062807,
          0.30406153442869027,
          0.24730849370845975,
          0.5320241453038183,
          0.38368513995462306,
          0.5157338151601558,
          0.5980999955610856,
          0.32878470090398176,
          0.3846107990561463,
          0.46036037875276514,
          0.5587558290158722,
          0.4061942759779068,
          0.4792819436830545,
          0.30754992619891114,
          0.3790229359536903,
          0.4895586822242337,
          0.2758555305973215,
          0.47480954157320227,
          0.20998373264074227,
          0.4564819576745021
         ],
         "z": [
          0.046976188174885615,
          0.046976188174885615,
          0.06643436242551386,
          0,
          0,
          0,
          0,
          0,
          0.042016780033146406,
          0.021008390016573203,
          0,
          0,
          0,
          0.051459835857984575,
          0,
          0.029710350085061357,
          0.03638759889392755,
          0.051459835857984575,
          0.029710350085061357,
          0,
          0
         ]
        },
        {
         "marker": {
          "color": "green",
          "opacity": 0.8,
          "size": 5
         },
         "mode": "markers",
         "name": "lat10",
         "type": "scatter3d",
         "x": [
          9.293705642907764,
          9.633927598168173,
          9.39419843992273,
          9.946091584817228,
          9.18114568147412,
          9.443124953976445,
          9.508213866976995,
          10.020325989103043,
          9.212381583023237,
          9.461704899677423,
          8.988195803298936,
          9.618050754571604,
          9.40546939325839,
          9.652354957733865,
          9.459048944030823,
          9.342797988243166,
          9.459514474687358,
          9.504235523239698,
          9.867939495174973,
          9.365643655891832,
          9.629785997446056
         ],
         "y": [
          0.7288717334494453,
          0.8283529820009071,
          0.533119837360216,
          0.8575128266692978,
          0.5362104130329542,
          0.8989075932364289,
          0.5358250659382433,
          0.9245084162662838,
          0.7226103217932414,
          0.7790072896950829,
          0.5335071384191891,
          0.8399908531528636,
          0.7162941787440857,
          0.59326731342266,
          0.6043057913074253,
          0.7752863192373509,
          0.6657796013153783,
          0.6114415019524864,
          0.751475595185053,
          0.8233508047271374,
          0.5307900964067548
         ],
         "z": [
          0.08601107651767786,
          0.06733646866749556,
          0.07876988481707962,
          0.0690857591587107,
          0.03089609075121116,
          0.06733646866749556,
          0.07876988481707962,
          0.1186586880497141,
          0.04087168630589375,
          0.12358436300484464,
          0.04885100878454497,
          0.06733646866749556,
          0.10129960787116139,
          0.08319027029572809,
          0.021846835282336385,
          0.0817433726117875,
          0.08461242921582543,
          0.04634413612681674,
          0.07876988481707962,
          0.10011477637653843,
          0.11139743941488056
         ]
        },
        {
         "marker": {
          "color": "purple",
          "opacity": 0.8,
          "size": 5
         },
         "mode": "markers",
         "name": "lat15",
         "type": "scatter3d",
         "x": [
          12.601085466072275,
          13.04640549179667,
          12.263936924198973,
          12.749571429829155,
          13.185582164011723,
          13.187412035446362,
          12.841318246040272,
          12.730746425733166,
          12.92975653923564,
          12.987508237318385,
          12.425727083273939,
          12.550413284862314,
          12.613757935232739,
          12.385027516472945,
          12.903348198169429,
          12.937106172537804,
          13.078899772464018,
          12.770143817582023,
          12.799226669923897,
          12.610134387467435,
          13.162492877337307
         ],
         "y": [
          0.5691641760326349,
          0.4404724273751412,
          0.6789218549081961,
          0.3086165876794295,
          0.8311524531989616,
          0.4071798817599863,
          0.5844533118724743,
          0.5894615723284842,
          0.5400109869863298,
          0.35470608953875266,
          0.46577367690916477,
          0.4093400023917233,
          0.5256669669890441,
          0.3289051466244915,
          0.534539609919307,
          0.47017082868545623,
          0.45037192021444533,
          0.657810293248983,
          0.5427259914658433,
          0.491566941904352,
          0.6061802275966036
         ],
         "z": [
          0.04732197489014544,
          0.027321354941410185,
          0,
          0.03346168934396137,
          0,
          0.01931911535027573,
          0,
          0,
          0.05111357476660007,
          0,
          0.06692337868792274,
          0.03346168934396137,
          0,
          0,
          0.01931911535027573,
          0.01931911535027573,
          0,
          0.07727646140110292,
          0.06692337868792274,
          0.027321354941410185,
          0.0696560609920226
         ]
        },
        {
         "marker": {
          "color": "orange",
          "opacity": 0.8,
          "size": 5
         },
         "mode": "markers",
         "name": "lat20",
         "type": "scatter3d",
         "x": [
          13.592661837406624,
          13.641504776786743,
          14.165347595197645,
          13.759990600384402,
          13.805665145419095,
          14.103701559259065,
          13.520815159506748,
          14.201350674918487,
          13.626047425154281,
          13.78412091479172,
          13.963736939603313,
          13.656483010557544,
          13.749383426488608,
          13.873862572386116,
          13.578342812753961,
          14.026672338389924,
          13.435754418474172,
          14.003185104383105,
          14.116116103622694,
          13.562315447260195,
          14.221946267456753
         ],
         "y": [
          0.2814998667399253,
          0.4773062466089906,
          0.5815447381593816,
          0.18619466037291618,
          0.29619656987816056,
          0.40949005165156305,
          0.29738851260094784,
          0.4802617314856834,
          0.42392208309036267,
          0.35785613717568393,
          0.4434979127320185,
          0.31247028639442265,
          0.22726398222633162,
          0.4875720715174188,
          0.5137165983713007,
          0.4354482798260854,
          0.21609322451538865,
          0.3733380848841415,
          0.4112142279158539,
          0.25651375402829973,
          0.5372782548379762
         ],
         "z": [
          0.03315389012127949,
          0.04688668105494083,
          0.019141407386203988,
          0,
          0.019141407386203988,
          0.05064340368767064,
          0,
          0,
          0,
          0.03315389012127949,
          0.04688668105494083,
          0,
          0,
          0,
          0.05064340368767064,
          0.03315389012127949,
          0,
          0,
          0.038282814772407976,
          0,
          0
         ]
        }
       ],
       "layout": {
        "scene": {
         "xaxis": {
          "title": {
           "text": "X"
          }
         },
         "yaxis": {
          "title": {
           "text": "Y"
          }
         },
         "zaxis": {
          "title": {
           "text": "Z"
          }
         }
        },
        "template": {
         "data": {
          "bar": [
           {
            "error_x": {
             "color": "#2a3f5f"
            },
            "error_y": {
             "color": "#2a3f5f"
            },
            "marker": {
             "line": {
              "color": "#E5ECF6",
              "width": 0.5
             },
             "pattern": {
              "fillmode": "overlay",
              "size": 10,
              "solidity": 0.2
             }
            },
            "type": "bar"
           }
          ],
          "barpolar": [
           {
            "marker": {
             "line": {
              "color": "#E5ECF6",
              "width": 0.5
             },
             "pattern": {
              "fillmode": "overlay",
              "size": 10,
              "solidity": 0.2
             }
            },
            "type": "barpolar"
           }
          ],
          "carpet": [
           {
            "aaxis": {
             "endlinecolor": "#2a3f5f",
             "gridcolor": "white",
             "linecolor": "white",
             "minorgridcolor": "white",
             "startlinecolor": "#2a3f5f"
            },
            "baxis": {
             "endlinecolor": "#2a3f5f",
             "gridcolor": "white",
             "linecolor": "white",
             "minorgridcolor": "white",
             "startlinecolor": "#2a3f5f"
            },
            "type": "carpet"
           }
          ],
          "choropleth": [
           {
            "colorbar": {
             "outlinewidth": 0,
             "ticks": ""
            },
            "type": "choropleth"
           }
          ],
          "contour": [
           {
            "colorbar": {
             "outlinewidth": 0,
             "ticks": ""
            },
            "colorscale": [
             [
              0,
              "#0d0887"
             ],
             [
              0.1111111111111111,
              "#46039f"
             ],
             [
              0.2222222222222222,
              "#7201a8"
             ],
             [
              0.3333333333333333,
              "#9c179e"
             ],
             [
              0.4444444444444444,
              "#bd3786"
             ],
             [
              0.5555555555555556,
              "#d8576b"
             ],
             [
              0.6666666666666666,
              "#ed7953"
             ],
             [
              0.7777777777777778,
              "#fb9f3a"
             ],
             [
              0.8888888888888888,
              "#fdca26"
             ],
             [
              1,
              "#f0f921"
             ]
            ],
            "type": "contour"
           }
          ],
          "contourcarpet": [
           {
            "colorbar": {
             "outlinewidth": 0,
             "ticks": ""
            },
            "type": "contourcarpet"
           }
          ],
          "heatmap": [
           {
            "colorbar": {
             "outlinewidth": 0,
             "ticks": ""
            },
            "colorscale": [
             [
              0,
              "#0d0887"
             ],
             [
              0.1111111111111111,
              "#46039f"
             ],
             [
              0.2222222222222222,
              "#7201a8"
             ],
             [
              0.3333333333333333,
              "#9c179e"
             ],
             [
              0.4444444444444444,
              "#bd3786"
             ],
             [
              0.5555555555555556,
              "#d8576b"
             ],
             [
              0.6666666666666666,
              "#ed7953"
             ],
             [
              0.7777777777777778,
              "#fb9f3a"
             ],
             [
              0.8888888888888888,
              "#fdca26"
             ],
             [
              1,
              "#f0f921"
             ]
            ],
            "type": "heatmap"
           }
          ],
          "heatmapgl": [
           {
            "colorbar": {
             "outlinewidth": 0,
             "ticks": ""
            },
            "colorscale": [
             [
              0,
              "#0d0887"
             ],
             [
              0.1111111111111111,
              "#46039f"
             ],
             [
              0.2222222222222222,
              "#7201a8"
             ],
             [
              0.3333333333333333,
              "#9c179e"
             ],
             [
              0.4444444444444444,
              "#bd3786"
             ],
             [
              0.5555555555555556,
              "#d8576b"
             ],
             [
              0.6666666666666666,
              "#ed7953"
             ],
             [
              0.7777777777777778,
              "#fb9f3a"
             ],
             [
              0.8888888888888888,
              "#fdca26"
             ],
             [
              1,
              "#f0f921"
             ]
            ],
            "type": "heatmapgl"
           }
          ],
          "histogram": [
           {
            "marker": {
             "pattern": {
              "fillmode": "overlay",
              "size": 10,
              "solidity": 0.2
             }
            },
            "type": "histogram"
           }
          ],
          "histogram2d": [
           {
            "colorbar": {
             "outlinewidth": 0,
             "ticks": ""
            },
            "colorscale": [
             [
              0,
              "#0d0887"
             ],
             [
              0.1111111111111111,
              "#46039f"
             ],
             [
              0.2222222222222222,
              "#7201a8"
             ],
             [
              0.3333333333333333,
              "#9c179e"
             ],
             [
              0.4444444444444444,
              "#bd3786"
             ],
             [
              0.5555555555555556,
              "#d8576b"
             ],
             [
              0.6666666666666666,
              "#ed7953"
             ],
             [
              0.7777777777777778,
              "#fb9f3a"
             ],
             [
              0.8888888888888888,
              "#fdca26"
             ],
             [
              1,
              "#f0f921"
             ]
            ],
            "type": "histogram2d"
           }
          ],
          "histogram2dcontour": [
           {
            "colorbar": {
             "outlinewidth": 0,
             "ticks": ""
            },
            "colorscale": [
             [
              0,
              "#0d0887"
             ],
             [
              0.1111111111111111,
              "#46039f"
             ],
             [
              0.2222222222222222,
              "#7201a8"
             ],
             [
              0.3333333333333333,
              "#9c179e"
             ],
             [
              0.4444444444444444,
              "#bd3786"
             ],
             [
              0.5555555555555556,
              "#d8576b"
             ],
             [
              0.6666666666666666,
              "#ed7953"
             ],
             [
              0.7777777777777778,
              "#fb9f3a"
             ],
             [
              0.8888888888888888,
              "#fdca26"
             ],
             [
              1,
              "#f0f921"
             ]
            ],
            "type": "histogram2dcontour"
           }
          ],
          "mesh3d": [
           {
            "colorbar": {
             "outlinewidth": 0,
             "ticks": ""
            },
            "type": "mesh3d"
           }
          ],
          "parcoords": [
           {
            "line": {
             "colorbar": {
              "outlinewidth": 0,
              "ticks": ""
             }
            },
            "type": "parcoords"
           }
          ],
          "pie": [
           {
            "automargin": true,
            "type": "pie"
           }
          ],
          "scatter": [
           {
            "fillpattern": {
             "fillmode": "overlay",
             "size": 10,
             "solidity": 0.2
            },
            "type": "scatter"
           }
          ],
          "scatter3d": [
           {
            "line": {
             "colorbar": {
              "outlinewidth": 0,
              "ticks": ""
             }
            },
            "marker": {
             "colorbar": {
              "outlinewidth": 0,
              "ticks": ""
             }
            },
            "type": "scatter3d"
           }
          ],
          "scattercarpet": [
           {
            "marker": {
             "colorbar": {
              "outlinewidth": 0,
              "ticks": ""
             }
            },
            "type": "scattercarpet"
           }
          ],
          "scattergeo": [
           {
            "marker": {
             "colorbar": {
              "outlinewidth": 0,
              "ticks": ""
             }
            },
            "type": "scattergeo"
           }
          ],
          "scattergl": [
           {
            "marker": {
             "colorbar": {
              "outlinewidth": 0,
              "ticks": ""
             }
            },
            "type": "scattergl"
           }
          ],
          "scattermapbox": [
           {
            "marker": {
             "colorbar": {
              "outlinewidth": 0,
              "ticks": ""
             }
            },
            "type": "scattermapbox"
           }
          ],
          "scatterpolar": [
           {
            "marker": {
             "colorbar": {
              "outlinewidth": 0,
              "ticks": ""
             }
            },
            "type": "scatterpolar"
           }
          ],
          "scatterpolargl": [
           {
            "marker": {
             "colorbar": {
              "outlinewidth": 0,
              "ticks": ""
             }
            },
            "type": "scatterpolargl"
           }
          ],
          "scatterternary": [
           {
            "marker": {
             "colorbar": {
              "outlinewidth": 0,
              "ticks": ""
             }
            },
            "type": "scatterternary"
           }
          ],
          "surface": [
           {
            "colorbar": {
             "outlinewidth": 0,
             "ticks": ""
            },
            "colorscale": [
             [
              0,
              "#0d0887"
             ],
             [
              0.1111111111111111,
              "#46039f"
             ],
             [
              0.2222222222222222,
              "#7201a8"
             ],
             [
              0.3333333333333333,
              "#9c179e"
             ],
             [
              0.4444444444444444,
              "#bd3786"
             ],
             [
              0.5555555555555556,
              "#d8576b"
             ],
             [
              0.6666666666666666,
              "#ed7953"
             ],
             [
              0.7777777777777778,
              "#fb9f3a"
             ],
             [
              0.8888888888888888,
              "#fdca26"
             ],
             [
              1,
              "#f0f921"
             ]
            ],
            "type": "surface"
           }
          ],
          "table": [
           {
            "cells": {
             "fill": {
              "color": "#EBF0F8"
             },
             "line": {
              "color": "white"
             }
            },
            "header": {
             "fill": {
              "color": "#C8D4E3"
             },
             "line": {
              "color": "white"
             }
            },
            "type": "table"
           }
          ]
         },
         "layout": {
          "annotationdefaults": {
           "arrowcolor": "#2a3f5f",
           "arrowhead": 0,
           "arrowwidth": 1
          },
          "autotypenumbers": "strict",
          "coloraxis": {
           "colorbar": {
            "outlinewidth": 0,
            "ticks": ""
           }
          },
          "colorscale": {
           "diverging": [
            [
             0,
             "#8e0152"
            ],
            [
             0.1,
             "#c51b7d"
            ],
            [
             0.2,
             "#de77ae"
            ],
            [
             0.3,
             "#f1b6da"
            ],
            [
             0.4,
             "#fde0ef"
            ],
            [
             0.5,
             "#f7f7f7"
            ],
            [
             0.6,
             "#e6f5d0"
            ],
            [
             0.7,
             "#b8e186"
            ],
            [
             0.8,
             "#7fbc41"
            ],
            [
             0.9,
             "#4d9221"
            ],
            [
             1,
             "#276419"
            ]
           ],
           "sequential": [
            [
             0,
             "#0d0887"
            ],
            [
             0.1111111111111111,
             "#46039f"
            ],
            [
             0.2222222222222222,
             "#7201a8"
            ],
            [
             0.3333333333333333,
             "#9c179e"
            ],
            [
             0.4444444444444444,
             "#bd3786"
            ],
            [
             0.5555555555555556,
             "#d8576b"
            ],
            [
             0.6666666666666666,
             "#ed7953"
            ],
            [
             0.7777777777777778,
             "#fb9f3a"
            ],
            [
             0.8888888888888888,
             "#fdca26"
            ],
            [
             1,
             "#f0f921"
            ]
           ],
           "sequentialminus": [
            [
             0,
             "#0d0887"
            ],
            [
             0.1111111111111111,
             "#46039f"
            ],
            [
             0.2222222222222222,
             "#7201a8"
            ],
            [
             0.3333333333333333,
             "#9c179e"
            ],
            [
             0.4444444444444444,
             "#bd3786"
            ],
            [
             0.5555555555555556,
             "#d8576b"
            ],
            [
             0.6666666666666666,
             "#ed7953"
            ],
            [
             0.7777777777777778,
             "#fb9f3a"
            ],
            [
             0.8888888888888888,
             "#fdca26"
            ],
            [
             1,
             "#f0f921"
            ]
           ]
          },
          "colorway": [
           "#636efa",
           "#EF553B",
           "#00cc96",
           "#ab63fa",
           "#FFA15A",
           "#19d3f3",
           "#FF6692",
           "#B6E880",
           "#FF97FF",
           "#FECB52"
          ],
          "font": {
           "color": "#2a3f5f"
          },
          "geo": {
           "bgcolor": "white",
           "lakecolor": "white",
           "landcolor": "#E5ECF6",
           "showlakes": true,
           "showland": true,
           "subunitcolor": "white"
          },
          "hoverlabel": {
           "align": "left"
          },
          "hovermode": "closest",
          "mapbox": {
           "style": "light"
          },
          "paper_bgcolor": "white",
          "plot_bgcolor": "#E5ECF6",
          "polar": {
           "angularaxis": {
            "gridcolor": "white",
            "linecolor": "white",
            "ticks": ""
           },
           "bgcolor": "#E5ECF6",
           "radialaxis": {
            "gridcolor": "white",
            "linecolor": "white",
            "ticks": ""
           }
          },
          "scene": {
           "xaxis": {
            "backgroundcolor": "#E5ECF6",
            "gridcolor": "white",
            "gridwidth": 2,
            "linecolor": "white",
            "showbackground": true,
            "ticks": "",
            "zerolinecolor": "white"
           },
           "yaxis": {
            "backgroundcolor": "#E5ECF6",
            "gridcolor": "white",
            "gridwidth": 2,
            "linecolor": "white",
            "showbackground": true,
            "ticks": "",
            "zerolinecolor": "white"
           },
           "zaxis": {
            "backgroundcolor": "#E5ECF6",
            "gridcolor": "white",
            "gridwidth": 2,
            "linecolor": "white",
            "showbackground": true,
            "ticks": "",
            "zerolinecolor": "white"
           }
          },
          "shapedefaults": {
           "line": {
            "color": "#2a3f5f"
           }
          },
          "ternary": {
           "aaxis": {
            "gridcolor": "white",
            "linecolor": "white",
            "ticks": ""
           },
           "baxis": {
            "gridcolor": "white",
            "linecolor": "white",
            "ticks": ""
           },
           "bgcolor": "#E5ECF6",
           "caxis": {
            "gridcolor": "white",
            "linecolor": "white",
            "ticks": ""
           }
          },
          "title": {
           "x": 0.05
          },
          "xaxis": {
           "automargin": true,
           "gridcolor": "white",
           "linecolor": "white",
           "ticks": "",
           "title": {
            "standoff": 15
           },
           "zerolinecolor": "white",
           "zerolinewidth": 2
          },
          "yaxis": {
           "automargin": true,
           "gridcolor": "white",
           "linecolor": "white",
           "ticks": "",
           "title": {
            "standoff": 15
           },
           "zerolinecolor": "white",
           "zerolinewidth": 2
          }
         }
        },
        "title": {
         "text": "3D Scatter Plot of betti for 100 samples per group and 0.02 noise"
        }
       }
      }
     },
     "metadata": {},
     "output_type": "display_data"
    }
   ],
   "source": [
    "plot_norms('betti', 0.02, 100)"
   ]
  },
  {
   "cell_type": "code",
   "execution_count": 62,
   "id": "7add3a65",
   "metadata": {},
   "outputs": [
    {
     "data": {
      "application/vnd.plotly.v1+json": {
       "config": {
        "plotlyServerURL": "https://plot.ly"
       },
       "data": [
        {
         "marker": {
          "color": "red",
          "opacity": 0.8,
          "size": 5
         },
         "mode": "markers",
         "name": "lat00",
         "type": "scatter3d",
         "x": [
          0.20047037725236003,
          0.21750264689054652,
          0.20153246798615673,
          0.19415152499480176,
          0.20060378434212367,
          0.1847478477876489,
          0.19889181538178083,
          0.21069004156030022,
          0.1961078785361247,
          0.19799067729567044,
          0.21174582716688647,
          0.20700847384359033,
          0.19657975582539108,
          0.19680111345607315,
          0.20963695520089862,
          0.20179112767699328,
          0.202748502030667,
          0.21576045565338314,
          0.2177627756192456,
          0.22474372482699959,
          0.2063354600567085,
          0.2261934950779006,
          0.1949135076732085,
          0.189136048459745,
          0.19267391892101235,
          0.19764963562130308,
          0.20153252666227076,
          0.21503227612300924,
          0.17776457388377526,
          0.23757534282972176,
          0.214813147989549,
          0.2091938387952667,
          0.19154454050949735,
          0.20238343339933523,
          0.2079120339373229,
          0.20102347199189982,
          0.20304553647180756,
          0.2086537438637819,
          0.20431150145428123,
          0.19218605320863003,
          0.24451396528103356,
          0.21723489670778925
         ],
         "y": [
          0,
          0.0034519043960863274,
          0.002527743907300479,
          0,
          0.0017451643943786621,
          0.0019838139414787292,
          0.0007648710161447525,
          0.001998733294791727,
          0.003537478093340735,
          0.006350711718293537,
          0.0017739739269018173,
          0,
          0,
          0.003933680139453087,
          0.0018872972577810287,
          0.0023062420073251266,
          0.0008329313908945586,
          0.004883520272628869,
          0.009262253358408488,
          0.0022362612068517434,
          0.0011895624317633004,
          0.006275131631304226,
          0.0026836240509993726,
          0.0004917159676551819,
          0,
          0.0021616462618112564,
          0.00041697269798388666,
          0.0013725142925977707,
          0.0012477580457925797,
          0,
          0.005337747664885023,
          0.0018807597294238803,
          0.0008376166224479675,
          0.00228823721408844,
          0.005214904059398529,
          0.002916305187378965,
          0.007340818522404752,
          0.004900202417190442,
          0.0066826337813609814,
          0.0035954244768105054,
          0,
          0.0013960276618172646
         ],
         "z": [
          0,
          0,
          0,
          0,
          0,
          0,
          0,
          0,
          0,
          0,
          0,
          0,
          0,
          0,
          0,
          0,
          0,
          0,
          0,
          0,
          0,
          0,
          0,
          0,
          0,
          0,
          0,
          0,
          0,
          0,
          0,
          0,
          0,
          0,
          0,
          0,
          0,
          0.0014407448470592499,
          0,
          0,
          0,
          0
         ]
        },
        {
         "marker": {
          "color": "blue",
          "opacity": 0.8,
          "size": 5
         },
         "mode": "markers",
         "name": "lat05",
         "type": "scatter3d",
         "x": [
          0.13940665804122107,
          0.13540925005034934,
          0.13524815466504694,
          0.13264560320763588,
          0.13371102868411425,
          0.13202016574135855,
          0.13517463995849363,
          0.14660821280113856,
          0.14165830459855633,
          0.1278609083763061,
          0.13277962509988367,
          0.13714325592099078,
          0.12544444353178533,
          0.13210399064343537,
          0.1362455015712953,
          0.1337536296108863,
          0.13997940764525557,
          0.1264571333023483,
          0.12219930855844205,
          0.11315264806078973,
          0.1346521547773865,
          0.12887568589273068,
          0.13091046678166804,
          0.1404212430564505,
          0.13032802884910083,
          0.13076824470061962,
          0.1268269446136085,
          0.13277396214048678,
          0.1397881473135814,
          0.13929405368827347,
          0.1348188318510665,
          0.12586249674639685,
          0.12212863347637237,
          0.1395180471938425,
          0.12974582165393359,
          0.13070830037492154,
          0.12019368989566175,
          0.13174698189530976,
          0.12495746838071521,
          0.13408417895659328,
          0.12596288912159762,
          0.13128691624042535
         ],
         "y": [
          0.004330452075610956,
          0.005882157388028663,
          0.008916861368071025,
          0.004397980850374899,
          0.0038404916773926968,
          0.003237348370213931,
          0.002894230136542757,
          0.0015117470175027847,
          0.004253951391908242,
          0.0028027835906168372,
          0.005169752280159987,
          0.0077683917306813335,
          0.0006732307374477386,
          0.006307162595178825,
          0.0032501520736820722,
          0.006190503578308657,
          0.004614234800824136,
          0.0035259122378558986,
          0.004495476432984459,
          0.006919388278635866,
          0.008532619429041013,
          0.0038597853416277904,
          0.00617979832137452,
          0.005646548389964897,
          0.005387705293781997,
          0.007196920618383812,
          0.008766102857047259,
          0.005410535492694221,
          0.0075231356243459216,
          0.002221876819534967,
          0.01052984272003528,
          0.002888075040829124,
          0.001928569480757145,
          0.0038127419262385873,
          0.007159555826373811,
          0.0049576684902242945,
          0.005278066747955261,
          0.002143908354320125,
          0.004136961663296655,
          0.0034668502169583905,
          0.005708264329918423,
          0.00244445109526222
         ],
         "z": [
          0,
          0,
          0,
          0,
          0,
          0,
          0,
          0,
          0,
          0,
          0,
          0,
          0,
          0.0018286630511283875,
          0,
          0,
          0,
          0,
          0,
          0,
          0.0017906073480844498,
          0,
          0,
          0,
          0,
          0,
          0,
          0,
          0,
          0,
          0,
          0,
          0,
          0,
          0,
          0,
          0,
          0,
          0,
          0,
          0,
          0
         ]
        },
        {
         "marker": {
          "color": "green",
          "opacity": 0.8,
          "size": 5
         },
         "mode": "markers",
         "name": "lat10",
         "type": "scatter3d",
         "x": [
          0.05906661880953388,
          0.049484867783831585,
          0.05212877304801203,
          0.060808932442490735,
          0.0573210961373755,
          0.054120422939276505,
          0.04521986312987373,
          0.05909121234257862,
          0.05339505170774481,
          0.05376577633299421,
          0.04891071652394427,
          0.06043979304356324,
          0.06498116948340794,
          0.058044147531434394,
          0.05603098874549311,
          0.04790833515998425,
          0.05659459823738567,
          0.05005636992854881,
          0.06347328255997077,
          0.06614547255650598,
          0.055218507768585674,
          0.059587730218140234,
          0.05789598069016753,
          0.05380642543190682,
          0.058414759522856734,
          0.057881075719003326,
          0.06617692588327793,
          0.05417369878337914,
          0.056573590566877496,
          0.06167185844349718,
          0.056770037438199104,
          0.05705684855492019,
          0.05151774275656083,
          0.051700020206432926,
          0.05487573682202097,
          0.057974587379545105,
          0.0552232552034764,
          0.05376748708498534,
          0.053198761796946194,
          0.054011443821949286,
          0.05592276884327303,
          0.055422861226708926
         ],
         "y": [
          0.006079985112400138,
          0.008320091509859375,
          0.006321101926310744,
          0.004854136783136599,
          0.0067066517075549305,
          0.00823237298115203,
          0.0039026695698062166,
          0.006435788040852964,
          0.005678551556462309,
          0.00648771950690203,
          0.005408604619718434,
          0.006226544807734154,
          0.009559931790883141,
          0.006703607237545868,
          0.006390841454553237,
          0.005765445441055939,
          0.010444554190716302,
          0.007241036469153837,
          0.00495814131966427,
          0.004269788838582665,
          0.007789126915467082,
          0.0064502644810425815,
          0.00960841680629447,
          0.006544246270277792,
          0.006441927923480453,
          0.005817761210243204,
          0.0073645351784735365,
          0.007325122834712902,
          0.007439623698120335,
          0.005117537770431275,
          0.0077441608796604555,
          0.0052713988066481155,
          0.00766054172959473,
          0.007283722611506799,
          0.0045884896101397125,
          0.005173861150868291,
          0.005254524682077173,
          0.006918568438414888,
          0.005310266415135205,
          0.005491205916501692,
          0.006420822078063051,
          0.005152216002276215
         ],
         "z": [
          0.0009413702076730035,
          0.0006150974692746496,
          0,
          0,
          0.0016192219037269226,
          0.0009655274080627514,
          0.0002869926393032074,
          0,
          0,
          0.0008850814583281647,
          0.00021169427782297134,
          0.000964260592139558,
          0,
          0.0009449453256238701,
          0.0006370861083269119,
          0,
          0.000555395391772604,
          0,
          0,
          0.0006193770095705986,
          0.00030521024018526077,
          0.0015820879489183426,
          0.0014708430430062447,
          0,
          0.0012345071882009506,
          0.0004929155111312866,
          0.00023070257157087326,
          0.001152979283302342,
          0,
          0.0005709119141101837,
          0.00017460715893983074,
          0.0025674523092580007,
          0.0015138357300430753,
          0.0005918831412689078,
          0,
          0.0011044910094270641,
          0,
          0.0008125882595777512,
          0.00010726228356361389,
          0.00016674152341604963,
          0.001108599529523863,
          0.0007039392367005348
         ]
        },
        {
         "marker": {
          "color": "purple",
          "opacity": 0.8,
          "size": 5
         },
         "mode": "markers",
         "name": "lat15",
         "type": "scatter3d",
         "x": [
          0.10780498220062189,
          0.11205526657817126,
          0.09941346905440687,
          0.11030250388341066,
          0.10204702583021885,
          0.10891145541772458,
          0.10732637322807903,
          0.1062765145639598,
          0.10933344126589604,
          0.11266890134092969,
          0.09873740394867087,
          0.0961292887815084,
          0.10135318185957053,
          0.10063281369033351,
          0.10531215657018705,
          0.08850248577748461,
          0.10615985145031681,
          0.09946156528336689,
          0.10580483175129328,
          0.10052170168137727,
          0.09749469592001146,
          0.10239701388851352,
          0.10592088628747941,
          0.10965393235758485,
          0.1110034792759256,
          0.11072123445615623,
          0.10458666217379735,
          0.10633700265201167,
          0.1029518857999625,
          0.10032583032124728,
          0.10617714505130654,
          0.1074038595455,
          0.10992004627573948,
          0.1120361627596271,
          0.10022837162796235,
          0.10113874782228971,
          0.10832483264245352,
          0.10022156967192557,
          0.10176374119769689,
          0.10243451331762145,
          0.10309422390590482,
          0.08939075312364958
         ],
         "y": [
          0.01184974400066938,
          0.010798337620755697,
          0.008538331820944284,
          0.0075258928039544076,
          0.0030769170558367816,
          0.010371061833676224,
          0.004980907543293747,
          0.005099960607775059,
          0.007028396680401151,
          0.005874641090075995,
          0.009036660794386114,
          0.004433484019669272,
          0.007832835310689304,
          0.0074410774732839805,
          0.005103669818434016,
          0.006420176381153512,
          0.007406437875163732,
          0.004930677472104859,
          0.009064761975122303,
          0.004067867416170897,
          0.00550768836444304,
          0.006712736841398196,
          0.00639422462377407,
          0.0062451629386169605,
          0.01106674491606719,
          0.005735038929475123,
          0.006304202795733683,
          0.003338445105370115,
          0.00876662157266483,
          0.0028270758446723885,
          0.00947874472791576,
          0.00812227685464909,
          0.005457571087653744,
          0.009573891932372776,
          0.005170504353674057,
          0.006395293906856476,
          0.013568910119846764,
          0.0032231498604618045,
          0.003879389872223203,
          0.0026401235779624386,
          0.004825310534927307,
          0.0053309686376024415
         ],
         "z": [
          0.000038079917430877686,
          0.000013355165719985962,
          0,
          0,
          0,
          0,
          0.00009820796549320221,
          0,
          0,
          0,
          0.0033018244627114474,
          0,
          0,
          0,
          0,
          0,
          0,
          0,
          0,
          0,
          0,
          0.0011014584451913834,
          0,
          0,
          0,
          0,
          0,
          0,
          0.0012342173272834774,
          0,
          0.001592317596077919,
          0,
          0.002690523862838745,
          0,
          0,
          0.0021001677960157394,
          0,
          0,
          0,
          0.0010128356516361237,
          0.0016187522560358047,
          0
         ]
        },
        {
         "marker": {
          "color": "orange",
          "opacity": 0.8,
          "size": 5
         },
         "mode": "markers",
         "name": "lat20",
         "type": "scatter3d",
         "x": [
          0.14254260594438595,
          0.11761543295797013,
          0.13080242947519619,
          0.13356381819967403,
          0.13126120181071502,
          0.1374194077970351,
          0.14474504134698774,
          0.12988301800097596,
          0.135437010689815,
          0.13188990476642412,
          0.1421835151627079,
          0.13986148216503505,
          0.13760324928704457,
          0.13485986303260017,
          0.1385524316573811,
          0.1390366797701847,
          0.12969535051694162,
          0.14583305700133337,
          0.13728047433734827,
          0.1343514370846986,
          0.13369744140062875,
          0.14353433146125036,
          0.13892754453661954,
          0.1368194360341239,
          0.141208764809376,
          0.14476427003052575,
          0.13665944838765343,
          0.12966171197846282,
          0.14232963789295114,
          0.1540671636276677,
          0.14615375613382642,
          0.14100839693442688,
          0.12972953019244937,
          0.13083818778300824,
          0.12843191842225446,
          0.13110503909532376,
          0.13859790977106143,
          0.13870068625089305,
          0.12918278553939697,
          0.14640954657810623,
          0.130587902976919,
          0.1324012521953566
         ],
         "y": [
          0.0060392701744003624,
          0.0039007451943403413,
          0.0012819679336747883,
          0.004293699540014582,
          0.004128441996073741,
          0.007192754207822947,
          0.003102951395917563,
          0.0031618017543680807,
          0.011585612479433488,
          0.00431661980180135,
          0.0022347381655516093,
          0.0037976690108888532,
          0.008894935174408109,
          0.004700656953526443,
          0.004863683555558079,
          0.004241599865751393,
          0.005037956023445662,
          0.0036301865467343957,
          0.004156635778841298,
          0.002150220720885681,
          0.0039578765019370995,
          0.003007898450540271,
          0.0031737099963268923,
          0.004540555405198907,
          0.005059837333776106,
          0.005944729733336363,
          0.0026472700242987056,
          0.0003995504230260849,
          0.005308209073228325,
          0.006501028535549926,
          0.0059852755748562615,
          0.007720208813144105,
          0.0027075100957772206,
          0.007273718761913339,
          0.007028662487484383,
          0.00841106016416562,
          0.0017846805391769005,
          0.007436882481563986,
          0.00473082333389335,
          0.006105751574386667,
          0.0015979979391544921,
          0.0005405377596616745
         ],
         "z": [
          0.00130530446767807,
          0.0001745428889989853,
          0,
          0,
          0,
          0,
          0,
          0,
          0,
          0,
          0,
          0,
          0,
          0,
          0,
          0,
          0,
          0,
          0,
          0,
          0,
          0,
          0,
          0,
          0,
          0,
          0,
          0,
          0,
          0,
          0,
          0,
          0,
          0,
          0,
          0,
          0,
          0,
          0,
          0,
          0,
          0
         ]
        }
       ],
       "layout": {
        "scene": {
         "xaxis": {
          "title": {
           "text": "X"
          }
         },
         "yaxis": {
          "title": {
           "text": "Y"
          }
         },
         "zaxis": {
          "title": {
           "text": "Z"
          }
         }
        },
        "template": {
         "data": {
          "bar": [
           {
            "error_x": {
             "color": "#2a3f5f"
            },
            "error_y": {
             "color": "#2a3f5f"
            },
            "marker": {
             "line": {
              "color": "#E5ECF6",
              "width": 0.5
             },
             "pattern": {
              "fillmode": "overlay",
              "size": 10,
              "solidity": 0.2
             }
            },
            "type": "bar"
           }
          ],
          "barpolar": [
           {
            "marker": {
             "line": {
              "color": "#E5ECF6",
              "width": 0.5
             },
             "pattern": {
              "fillmode": "overlay",
              "size": 10,
              "solidity": 0.2
             }
            },
            "type": "barpolar"
           }
          ],
          "carpet": [
           {
            "aaxis": {
             "endlinecolor": "#2a3f5f",
             "gridcolor": "white",
             "linecolor": "white",
             "minorgridcolor": "white",
             "startlinecolor": "#2a3f5f"
            },
            "baxis": {
             "endlinecolor": "#2a3f5f",
             "gridcolor": "white",
             "linecolor": "white",
             "minorgridcolor": "white",
             "startlinecolor": "#2a3f5f"
            },
            "type": "carpet"
           }
          ],
          "choropleth": [
           {
            "colorbar": {
             "outlinewidth": 0,
             "ticks": ""
            },
            "type": "choropleth"
           }
          ],
          "contour": [
           {
            "colorbar": {
             "outlinewidth": 0,
             "ticks": ""
            },
            "colorscale": [
             [
              0,
              "#0d0887"
             ],
             [
              0.1111111111111111,
              "#46039f"
             ],
             [
              0.2222222222222222,
              "#7201a8"
             ],
             [
              0.3333333333333333,
              "#9c179e"
             ],
             [
              0.4444444444444444,
              "#bd3786"
             ],
             [
              0.5555555555555556,
              "#d8576b"
             ],
             [
              0.6666666666666666,
              "#ed7953"
             ],
             [
              0.7777777777777778,
              "#fb9f3a"
             ],
             [
              0.8888888888888888,
              "#fdca26"
             ],
             [
              1,
              "#f0f921"
             ]
            ],
            "type": "contour"
           }
          ],
          "contourcarpet": [
           {
            "colorbar": {
             "outlinewidth": 0,
             "ticks": ""
            },
            "type": "contourcarpet"
           }
          ],
          "heatmap": [
           {
            "colorbar": {
             "outlinewidth": 0,
             "ticks": ""
            },
            "colorscale": [
             [
              0,
              "#0d0887"
             ],
             [
              0.1111111111111111,
              "#46039f"
             ],
             [
              0.2222222222222222,
              "#7201a8"
             ],
             [
              0.3333333333333333,
              "#9c179e"
             ],
             [
              0.4444444444444444,
              "#bd3786"
             ],
             [
              0.5555555555555556,
              "#d8576b"
             ],
             [
              0.6666666666666666,
              "#ed7953"
             ],
             [
              0.7777777777777778,
              "#fb9f3a"
             ],
             [
              0.8888888888888888,
              "#fdca26"
             ],
             [
              1,
              "#f0f921"
             ]
            ],
            "type": "heatmap"
           }
          ],
          "heatmapgl": [
           {
            "colorbar": {
             "outlinewidth": 0,
             "ticks": ""
            },
            "colorscale": [
             [
              0,
              "#0d0887"
             ],
             [
              0.1111111111111111,
              "#46039f"
             ],
             [
              0.2222222222222222,
              "#7201a8"
             ],
             [
              0.3333333333333333,
              "#9c179e"
             ],
             [
              0.4444444444444444,
              "#bd3786"
             ],
             [
              0.5555555555555556,
              "#d8576b"
             ],
             [
              0.6666666666666666,
              "#ed7953"
             ],
             [
              0.7777777777777778,
              "#fb9f3a"
             ],
             [
              0.8888888888888888,
              "#fdca26"
             ],
             [
              1,
              "#f0f921"
             ]
            ],
            "type": "heatmapgl"
           }
          ],
          "histogram": [
           {
            "marker": {
             "pattern": {
              "fillmode": "overlay",
              "size": 10,
              "solidity": 0.2
             }
            },
            "type": "histogram"
           }
          ],
          "histogram2d": [
           {
            "colorbar": {
             "outlinewidth": 0,
             "ticks": ""
            },
            "colorscale": [
             [
              0,
              "#0d0887"
             ],
             [
              0.1111111111111111,
              "#46039f"
             ],
             [
              0.2222222222222222,
              "#7201a8"
             ],
             [
              0.3333333333333333,
              "#9c179e"
             ],
             [
              0.4444444444444444,
              "#bd3786"
             ],
             [
              0.5555555555555556,
              "#d8576b"
             ],
             [
              0.6666666666666666,
              "#ed7953"
             ],
             [
              0.7777777777777778,
              "#fb9f3a"
             ],
             [
              0.8888888888888888,
              "#fdca26"
             ],
             [
              1,
              "#f0f921"
             ]
            ],
            "type": "histogram2d"
           }
          ],
          "histogram2dcontour": [
           {
            "colorbar": {
             "outlinewidth": 0,
             "ticks": ""
            },
            "colorscale": [
             [
              0,
              "#0d0887"
             ],
             [
              0.1111111111111111,
              "#46039f"
             ],
             [
              0.2222222222222222,
              "#7201a8"
             ],
             [
              0.3333333333333333,
              "#9c179e"
             ],
             [
              0.4444444444444444,
              "#bd3786"
             ],
             [
              0.5555555555555556,
              "#d8576b"
             ],
             [
              0.6666666666666666,
              "#ed7953"
             ],
             [
              0.7777777777777778,
              "#fb9f3a"
             ],
             [
              0.8888888888888888,
              "#fdca26"
             ],
             [
              1,
              "#f0f921"
             ]
            ],
            "type": "histogram2dcontour"
           }
          ],
          "mesh3d": [
           {
            "colorbar": {
             "outlinewidth": 0,
             "ticks": ""
            },
            "type": "mesh3d"
           }
          ],
          "parcoords": [
           {
            "line": {
             "colorbar": {
              "outlinewidth": 0,
              "ticks": ""
             }
            },
            "type": "parcoords"
           }
          ],
          "pie": [
           {
            "automargin": true,
            "type": "pie"
           }
          ],
          "scatter": [
           {
            "fillpattern": {
             "fillmode": "overlay",
             "size": 10,
             "solidity": 0.2
            },
            "type": "scatter"
           }
          ],
          "scatter3d": [
           {
            "line": {
             "colorbar": {
              "outlinewidth": 0,
              "ticks": ""
             }
            },
            "marker": {
             "colorbar": {
              "outlinewidth": 0,
              "ticks": ""
             }
            },
            "type": "scatter3d"
           }
          ],
          "scattercarpet": [
           {
            "marker": {
             "colorbar": {
              "outlinewidth": 0,
              "ticks": ""
             }
            },
            "type": "scattercarpet"
           }
          ],
          "scattergeo": [
           {
            "marker": {
             "colorbar": {
              "outlinewidth": 0,
              "ticks": ""
             }
            },
            "type": "scattergeo"
           }
          ],
          "scattergl": [
           {
            "marker": {
             "colorbar": {
              "outlinewidth": 0,
              "ticks": ""
             }
            },
            "type": "scattergl"
           }
          ],
          "scattermapbox": [
           {
            "marker": {
             "colorbar": {
              "outlinewidth": 0,
              "ticks": ""
             }
            },
            "type": "scattermapbox"
           }
          ],
          "scatterpolar": [
           {
            "marker": {
             "colorbar": {
              "outlinewidth": 0,
              "ticks": ""
             }
            },
            "type": "scatterpolar"
           }
          ],
          "scatterpolargl": [
           {
            "marker": {
             "colorbar": {
              "outlinewidth": 0,
              "ticks": ""
             }
            },
            "type": "scatterpolargl"
           }
          ],
          "scatterternary": [
           {
            "marker": {
             "colorbar": {
              "outlinewidth": 0,
              "ticks": ""
             }
            },
            "type": "scatterternary"
           }
          ],
          "surface": [
           {
            "colorbar": {
             "outlinewidth": 0,
             "ticks": ""
            },
            "colorscale": [
             [
              0,
              "#0d0887"
             ],
             [
              0.1111111111111111,
              "#46039f"
             ],
             [
              0.2222222222222222,
              "#7201a8"
             ],
             [
              0.3333333333333333,
              "#9c179e"
             ],
             [
              0.4444444444444444,
              "#bd3786"
             ],
             [
              0.5555555555555556,
              "#d8576b"
             ],
             [
              0.6666666666666666,
              "#ed7953"
             ],
             [
              0.7777777777777778,
              "#fb9f3a"
             ],
             [
              0.8888888888888888,
              "#fdca26"
             ],
             [
              1,
              "#f0f921"
             ]
            ],
            "type": "surface"
           }
          ],
          "table": [
           {
            "cells": {
             "fill": {
              "color": "#EBF0F8"
             },
             "line": {
              "color": "white"
             }
            },
            "header": {
             "fill": {
              "color": "#C8D4E3"
             },
             "line": {
              "color": "white"
             }
            },
            "type": "table"
           }
          ]
         },
         "layout": {
          "annotationdefaults": {
           "arrowcolor": "#2a3f5f",
           "arrowhead": 0,
           "arrowwidth": 1
          },
          "autotypenumbers": "strict",
          "coloraxis": {
           "colorbar": {
            "outlinewidth": 0,
            "ticks": ""
           }
          },
          "colorscale": {
           "diverging": [
            [
             0,
             "#8e0152"
            ],
            [
             0.1,
             "#c51b7d"
            ],
            [
             0.2,
             "#de77ae"
            ],
            [
             0.3,
             "#f1b6da"
            ],
            [
             0.4,
             "#fde0ef"
            ],
            [
             0.5,
             "#f7f7f7"
            ],
            [
             0.6,
             "#e6f5d0"
            ],
            [
             0.7,
             "#b8e186"
            ],
            [
             0.8,
             "#7fbc41"
            ],
            [
             0.9,
             "#4d9221"
            ],
            [
             1,
             "#276419"
            ]
           ],
           "sequential": [
            [
             0,
             "#0d0887"
            ],
            [
             0.1111111111111111,
             "#46039f"
            ],
            [
             0.2222222222222222,
             "#7201a8"
            ],
            [
             0.3333333333333333,
             "#9c179e"
            ],
            [
             0.4444444444444444,
             "#bd3786"
            ],
            [
             0.5555555555555556,
             "#d8576b"
            ],
            [
             0.6666666666666666,
             "#ed7953"
            ],
            [
             0.7777777777777778,
             "#fb9f3a"
            ],
            [
             0.8888888888888888,
             "#fdca26"
            ],
            [
             1,
             "#f0f921"
            ]
           ],
           "sequentialminus": [
            [
             0,
             "#0d0887"
            ],
            [
             0.1111111111111111,
             "#46039f"
            ],
            [
             0.2222222222222222,
             "#7201a8"
            ],
            [
             0.3333333333333333,
             "#9c179e"
            ],
            [
             0.4444444444444444,
             "#bd3786"
            ],
            [
             0.5555555555555556,
             "#d8576b"
            ],
            [
             0.6666666666666666,
             "#ed7953"
            ],
            [
             0.7777777777777778,
             "#fb9f3a"
            ],
            [
             0.8888888888888888,
             "#fdca26"
            ],
            [
             1,
             "#f0f921"
            ]
           ]
          },
          "colorway": [
           "#636efa",
           "#EF553B",
           "#00cc96",
           "#ab63fa",
           "#FFA15A",
           "#19d3f3",
           "#FF6692",
           "#B6E880",
           "#FF97FF",
           "#FECB52"
          ],
          "font": {
           "color": "#2a3f5f"
          },
          "geo": {
           "bgcolor": "white",
           "lakecolor": "white",
           "landcolor": "#E5ECF6",
           "showlakes": true,
           "showland": true,
           "subunitcolor": "white"
          },
          "hoverlabel": {
           "align": "left"
          },
          "hovermode": "closest",
          "mapbox": {
           "style": "light"
          },
          "paper_bgcolor": "white",
          "plot_bgcolor": "#E5ECF6",
          "polar": {
           "angularaxis": {
            "gridcolor": "white",
            "linecolor": "white",
            "ticks": ""
           },
           "bgcolor": "#E5ECF6",
           "radialaxis": {
            "gridcolor": "white",
            "linecolor": "white",
            "ticks": ""
           }
          },
          "scene": {
           "xaxis": {
            "backgroundcolor": "#E5ECF6",
            "gridcolor": "white",
            "gridwidth": 2,
            "linecolor": "white",
            "showbackground": true,
            "ticks": "",
            "zerolinecolor": "white"
           },
           "yaxis": {
            "backgroundcolor": "#E5ECF6",
            "gridcolor": "white",
            "gridwidth": 2,
            "linecolor": "white",
            "showbackground": true,
            "ticks": "",
            "zerolinecolor": "white"
           },
           "zaxis": {
            "backgroundcolor": "#E5ECF6",
            "gridcolor": "white",
            "gridwidth": 2,
            "linecolor": "white",
            "showbackground": true,
            "ticks": "",
            "zerolinecolor": "white"
           }
          },
          "shapedefaults": {
           "line": {
            "color": "#2a3f5f"
           }
          },
          "ternary": {
           "aaxis": {
            "gridcolor": "white",
            "linecolor": "white",
            "ticks": ""
           },
           "baxis": {
            "gridcolor": "white",
            "linecolor": "white",
            "ticks": ""
           },
           "bgcolor": "#E5ECF6",
           "caxis": {
            "gridcolor": "white",
            "linecolor": "white",
            "ticks": ""
           }
          },
          "title": {
           "x": 0.05
          },
          "xaxis": {
           "automargin": true,
           "gridcolor": "white",
           "linecolor": "white",
           "ticks": "",
           "title": {
            "standoff": 15
           },
           "zerolinecolor": "white",
           "zerolinewidth": 2
          },
          "yaxis": {
           "automargin": true,
           "gridcolor": "white",
           "linecolor": "white",
           "ticks": "",
           "title": {
            "standoff": 15
           },
           "zerolinecolor": "white",
           "zerolinewidth": 2
          }
         }
        },
        "title": {
         "text": "3D Scatter Plot of wass_dist for 50 samples per group and 0.02 noise"
        }
       }
      }
     },
     "metadata": {},
     "output_type": "display_data"
    }
   ],
   "source": [
    "plot_norms('wass_dist', 0.02, 50)"
   ]
  },
  {
   "cell_type": "code",
   "execution_count": 58,
   "id": "d0cbe05b",
   "metadata": {},
   "outputs": [
    {
     "data": {
      "application/vnd.plotly.v1+json": {
       "config": {
        "plotlyServerURL": "https://plot.ly"
       },
       "data": [
        {
         "marker": {
          "color": "red",
          "opacity": 0.8,
          "size": 5
         },
         "mode": "markers",
         "name": "lat00",
         "type": "scatter3d",
         "x": [
          0.02674736014128727,
          0.03819968299138399,
          0.013320371464988889,
          0.018883893929711893,
          0.022704430258923183,
          0.01108845075617966,
          0.018205377398061717,
          0.02645532470270196,
          0.016608277515212978,
          0.01562636768818069,
          0.01842303826520431,
          0.02643371123522363,
          0.018933066563011268,
          0.028813375819834543,
          0.016728376518979453,
          0.01349977766576784,
          0.017835054837116775,
          0.030736914937750773,
          0.03319053486362008,
          0.03762719350797637,
          0.023929160432096905,
          0.037285971723120814,
          0.013286047910655052,
          0.016537369789684227,
          0.01502667746274567,
          0.015004244494300642,
          0.013343090797494834,
          0.032882080978407564,
          0.011548510401395248,
          0.059897646545001994,
          0.02395442774686957,
          0.024844786106312477,
          0.012576555269480337,
          0.02142959408855906,
          0.027623192547790658,
          0.011199721169172125,
          0.019537866923558744,
          0.022279916812307968,
          0.028097201424087965,
          0.012775756416798316,
          0.05775890392159246,
          0.03535891078200744
         ],
         "y": [
          0,
          0.00013287598668277728,
          0.00010155528559615156,
          0,
          0.000059783159748270425,
          0.00007152915199770538,
          0.000011717325638860276,
          0.00005550900926231541,
          0.00013018956411489866,
          0.0003634913677366161,
          0.00006526146537693535,
          0,
          0,
          0.00019063458293166975,
          0.00006757143541297348,
          0.00008904594509801113,
          0.000011123212247113643,
          0.000252488358884676,
          0.0006567609035666621,
          0.00006957777232809303,
          0.000034186165515370555,
          0.000329439320960619,
          0.00011469612700296943,
          0.0000037571190150700675,
          0,
          0.00007980306919417342,
          9.112095983475126e-7,
          0.00003892296616973355,
          0.00003756557004800949,
          0,
          0.00029962360114482777,
          0.00006351769783352483,
          0.00001640729606939529,
          0.00008768122479058532,
          0.000216958131215985,
          0.00013067620082986015,
          0.0004208097818125555,
          0.00020275240749790212,
          0.000352395950465906,
          0.00016417899476249895,
          0,
          0.000023463441247708723
         ],
         "z": [
          0,
          0,
          0,
          0,
          0,
          0,
          0,
          0,
          0,
          0,
          0,
          0,
          0,
          0,
          0,
          0,
          0,
          0,
          0,
          0,
          0,
          0,
          0,
          0,
          0,
          0,
          0,
          0,
          0,
          0,
          0,
          0,
          0,
          0,
          0,
          0,
          0,
          0.00004464911202968497,
          0,
          0,
          0,
          0
         ]
        },
        {
         "marker": {
          "color": "blue",
          "opacity": 0.8,
          "size": 5
         },
         "mode": "markers",
         "name": "lat05",
         "type": "scatter3d",
         "x": [
          0.0074109555156539105,
          0.005703337237953992,
          0.01431411555405885,
          0.007437835785185557,
          0.0075319315834577105,
          0.00682915916451688,
          0.014344635505430352,
          0.015078690301697471,
          0.015585222560936715,
          0.007927113932973717,
          0.005858232633140217,
          0.008117224527799768,
          0.006513886889332124,
          0.007062005013160543,
          0.008332935099182589,
          0.013187170089884915,
          0.012559621476093123,
          0.007237789892977623,
          0.006138789418532918,
          0.005070292352565391,
          0.008109031648751229,
          0.004805536913358816,
          0.007722265566135827,
          0.006490914213352557,
          0.004532253459421302,
          0.007261366206031166,
          0.009752994485098717,
          0.010901886862431496,
          0.008628594530918392,
          0.00989767876294903,
          0.004452361372994146,
          0.011015478120774315,
          0.005501067232427858,
          0.010318563819562688,
          0.006952716143154519,
          0.005297771310603575,
          0.005549029312190875,
          0.005951770164919632,
          0.004718452716131667,
          0.00734073389127528,
          0.007603240902328205,
          0.006736734690876422
         ],
         "y": [
          0.00017480790029399847,
          0.00023211168545893024,
          0.00048309752734155545,
          0.00017851937768345689,
          0.00012504660161368906,
          0.00011065571156585488,
          0.0000950842820930899,
          0.0000468361225787929,
          0.0001911074689782418,
          0.00009951203925023078,
          0.0002747448504096449,
          0.0004277721236283525,
          0.000017945699372549072,
          0.0003310798236472711,
          0.00014470637679893071,
          0.00034919026716724317,
          0.000196128617924041,
          0.0001321742041437456,
          0.00019551306703570345,
          0.00044134993844051286,
          0.0004785442231462197,
          0.00013882059540357852,
          0.0002910629023295037,
          0.00031452071082936205,
          0.0002859527200042438,
          0.00040683547917305765,
          0.0006605516459702673,
          0.00023833064374236175,
          0.00041289831103148543,
          0.00008490214205533716,
          0.0006319770490869331,
          0.00010918400069301852,
          0.00004843005284066318,
          0.00012478284020783496,
          0.0003692589278318983,
          0.00018747184894031215,
          0.00028873474312931076,
          0.00006413411637595074,
          0.00016512565219323707,
          0.00014102464062150355,
          0.00026494542483610005,
          0.00008372251423705297
         ],
         "z": [
          0,
          0,
          0,
          0,
          0,
          0,
          0,
          0,
          0,
          0,
          0,
          0,
          0,
          0.00006387598163031202,
          0,
          0,
          0,
          0,
          0,
          0,
          0.00006183196238902696,
          0,
          0,
          0,
          0,
          0,
          0,
          0,
          0,
          0,
          0,
          0,
          0,
          0,
          0,
          0,
          0,
          0,
          0,
          0,
          0,
          0
         ]
        },
        {
         "marker": {
          "color": "green",
          "opacity": 0.8,
          "size": 5
         },
         "mode": "markers",
         "name": "lat10",
         "type": "scatter3d",
         "x": [
          0.0015204614593168333,
          0.00124860053991942,
          0.0022918087894635637,
          0.0018570182299210921,
          0.002243160029523946,
          0.0018660952608918237,
          0.0012571588951440559,
          0.0021864341498829794,
          0.0017892880433422425,
          0.002028755944743885,
          0.001107400050448969,
          0.0017554311793201844,
          0.0021883812252739107,
          0.0024500491148113828,
          0.0022427035249325926,
          0.0009998906401039785,
          0.0017153681020747353,
          0.0023995090770089155,
          0.0029808201718403062,
          0.0023747474627744095,
          0.001366595095592516,
          0.003113325145743106,
          0.0015599137556791707,
          0.0016863511586489102,
          0.0019109528603830556,
          0.001746007029284407,
          0.0028975702840122494,
          0.0013459672327685791,
          0.001485471013570219,
          0.002037345396306999,
          0.0022547999645874234,
          0.0017735514948446734,
          0.0011312399045696538,
          0.0022658321088679565,
          0.0022995811146389045,
          0.0015312830524824757,
          0.002033323691488592,
          0.0015505119131666782,
          0.001931040532071524,
          0.0013599846938204987,
          0.0016355217455352048,
          0.0014216072092906227
         ],
         "y": [
          0.00022172811662544975,
          0.00027615749186072974,
          0.00021419747940958062,
          0.00014814050446490334,
          0.00023665661871777766,
          0.0002760564617835031,
          0.00011862812980083995,
          0.00024439732837272597,
          0.0002400543052391429,
          0.0002598336026652384,
          0.00024371883833905987,
          0.00024160446635422897,
          0.0004479173540825484,
          0.00021939526982963487,
          0.0002571041247893799,
          0.00021389699507002327,
          0.0005608445602877881,
          0.00033141065603852084,
          0.00014882075692265512,
          0.00013370718391829525,
          0.00036395453632446167,
          0.0003210231292847412,
          0.00033299053482894027,
          0.0002653863445560188,
          0.0002563115255527675,
          0.00024811086311888925,
          0.0002984691825319452,
          0.0002173387679600769,
          0.0003195682578834579,
          0.0001753555794219251,
          0.00030813894796730823,
          0.00016806797138506507,
          0.00024467202449114265,
          0.00024167383799343075,
          0.00016513125118771123,
          0.00019737709735948242,
          0.00018612324860269822,
          0.0002481064625512189,
          0.00020793475376155827,
          0.00020334138128312308,
          0.00029442177420130897,
          0.0001833157761472002
         ],
         "z": [
          0.000020757981715275815,
          0.000010127538967958117,
          0,
          0,
          0.000048757598853960996,
          0.000017872943053914346,
          0.000004619418453568464,
          0,
          0,
          0.000019369628256804606,
          0.000002009831392830256,
          0.000024144015750676108,
          0,
          0.00002016174626591485,
          0.00001288245407664854,
          0,
          0.000007710521135315418,
          0,
          0,
          0.000013175500294216607,
          0.000003925926681976604,
          0.00005117945804642903,
          0.00003943416180570267,
          0,
          0.000035223490835718666,
          0.000009426584626754279,
          0.000002486377512448278,
          0.000028094001434391664,
          0,
          0.000011762044926644836,
          0.0000020068562293670763,
          0.00010499833815518613,
          0.00003512814191708092,
          0.000009706026077763873,
          0,
          0.000030103696963283232,
          0,
          0.00001880527208244067,
          8.211294798648118e-7,
          0.0000018167188329767887,
          0.00003037585952200737,
          0.00001524168490764017
         ]
        },
        {
         "marker": {
          "color": "purple",
          "opacity": 0.8,
          "size": 5
         },
         "mode": "markers",
         "name": "lat15",
         "type": "scatter3d",
         "x": [
          0.003183403483678279,
          0.006254307699064036,
          0.003644742937853952,
          0.006554248280368484,
          0.004093018972658311,
          0.005386945033702444,
          0.00499069937311883,
          0.003824020982248339,
          0.0041259120670525265,
          0.004161510916367117,
          0.0032430996349052882,
          0.003909084708021228,
          0.003267792894547952,
          0.004493001907020911,
          0.004293654167518574,
          0.004909072077419329,
          0.004237671791190831,
          0.003666166973674922,
          0.005231387928672405,
          0.004174075741666996,
          0.0046434199129612224,
          0.005222339047442231,
          0.0041358783880307655,
          0.00594992352369212,
          0.004246872235040429,
          0.006691006409566807,
          0.003415647534582774,
          0.005210719451782161,
          0.0044036549825169,
          0.0036505864603233245,
          0.005240779049944301,
          0.008200572175034794,
          0.004485393008834316,
          0.003509502711884213,
          0.003991548982695529,
          0.005887490565075457,
          0.008322911221684236,
          0.005038593426788412,
          0.004583316381294613,
          0.0031703017600966323,
          0.0058108380109160905,
          0.0038119910670878004
         ],
         "y": [
          0.0007607943541716579,
          0.0005973837231546111,
          0.0005550409686898009,
          0.0003375019672065432,
          0.0001019734920796283,
          0.0006221343333012292,
          0.00022421319380001764,
          0.0002451860380248031,
          0.00033570171989643006,
          0.00023698937655370055,
          0.00046826919873076177,
          0.00018240649115076248,
          0.00040047366163732467,
          0.00042898751938004936,
          0.0002138698973042639,
          0.00039182238350193784,
          0.000328914091413184,
          0.00025103725261515505,
          0.0006154633514569016,
          0.00016931931575595572,
          0.00022318301356585366,
          0.00030534658658933804,
          0.0002848285932028331,
          0.00029277552648198,
          0.0005467327557871403,
          0.0002648925348035235,
          0.00030105568291100964,
          0.0001285296861725137,
          0.0005728084980461376,
          0.00010308090286204378,
          0.0005354861524370394,
          0.0004509054193973645,
          0.0002266800257400628,
          0.0005037460190030489,
          0.00022622059027433837,
          0.00032615007053692394,
          0.00108017829327449,
          0.00009361959208159691,
          0.00014715810633138127,
          0.00009812826544200436,
          0.00019285624518445207,
          0.00020736578633820385
         ],
         "z": [
          0,
          0,
          0,
          0,
          0,
          0,
          6.312467740664415e-7,
          0,
          0,
          0,
          0.00013236123974656042,
          0,
          0,
          0,
          0,
          0,
          0,
          0,
          0,
          0,
          0,
          0.00002988494673406976,
          0,
          0,
          0,
          0,
          0,
          0,
          0.00003528332153789605,
          0,
          0.000051565808992803125,
          0,
          0.00011426806293448255,
          0,
          0,
          0.00007902019576514338,
          0,
          0,
          0,
          0.000027005326100802398,
          0.00005309487818495999,
          0
         ]
        },
        {
         "marker": {
          "color": "orange",
          "opacity": 0.8,
          "size": 5
         },
         "mode": "markers",
         "name": "lat20",
         "type": "scatter3d",
         "x": [
          0.006992025088492805,
          0.005739751736026404,
          0.004198509611863798,
          0.008917800386231597,
          0.005331873001368332,
          0.004890738582393726,
          0.016855395063512583,
          0.007083439272879409,
          0.006138586389508167,
          0.006304595561563749,
          0.00900440949567999,
          0.006973916482851196,
          0.00666982410441411,
          0.007730143287008961,
          0.007554262952357601,
          0.007493605750716524,
          0.007105118524376857,
          0.013769601492001406,
          0.01091949319471333,
          0.006381315108402151,
          0.009629858366877499,
          0.013998803911329957,
          0.009731209388221215,
          0.012167480108684216,
          0.011310496575693418,
          0.011055008021488625,
          0.008492146248204643,
          0.00433895500060462,
          0.00937476967825052,
          0.018909975205355357,
          0.01060020810398437,
          0.006914952077146687,
          0.007482347961614962,
          0.005739373702688284,
          0.009618342269010132,
          0.00608817334411411,
          0.008423225063128518,
          0.010659176993789512,
          0.007034481797691554,
          0.01471668050683655,
          0.00602761931687142,
          0.009196030392747414
         ],
         "y": [
          0.00028315284191895925,
          0.00015063845061872154,
          0.000038344879741288035,
          0.00022408400858299084,
          0.0001717244066254188,
          0.0003296304625900046,
          0.00010746914378150134,
          0.00014106008974393167,
          0.0007676538491453536,
          0.00019697033880768436,
          0.00008667820354373333,
          0.0001548936108040008,
          0.0005638981651980556,
          0.0002285492631447525,
          0.000260816230089662,
          0.00017022065881681534,
          0.00027839834851494326,
          0.0001584967729869305,
          0.00017150327942452298,
          0.00006509174638821437,
          0.00016338676101792322,
          0.0001337621327267757,
          0.00011917199588761796,
          0.00020432194864545896,
          0.00022991155058766502,
          0.00025469407266886075,
          0.00008127018580107112,
          0.0000114842073972645,
          0.00026557678607127405,
          0.00022389632789539198,
          0.0002736570248437579,
          0.000371583045409568,
          0.00009675410015262949,
          0.0004250992376714438,
          0.00035907239618769365,
          0.00047993464662247096,
          0.00004039254661193737,
          0.0003036180078938466,
          0.00020671451418931682,
          0.0002999954540243847,
          0.000043599618168576434,
          0.0000035683429976553043
         ],
         "z": [
          0.000038544304586652757,
          0.00000192725324901427,
          0,
          0,
          0,
          0,
          0,
          0,
          0,
          0,
          0,
          0,
          0,
          0,
          0,
          0,
          0,
          0,
          0,
          0,
          0,
          0,
          0,
          0,
          0,
          0,
          0,
          0,
          0,
          0,
          0,
          0,
          0,
          0,
          0,
          0,
          0,
          0,
          0,
          0,
          0,
          0
         ]
        }
       ],
       "layout": {
        "scene": {
         "xaxis": {
          "title": {
           "text": "X"
          }
         },
         "yaxis": {
          "title": {
           "text": "Y"
          }
         },
         "zaxis": {
          "title": {
           "text": "Z"
          }
         }
        },
        "template": {
         "data": {
          "bar": [
           {
            "error_x": {
             "color": "#2a3f5f"
            },
            "error_y": {
             "color": "#2a3f5f"
            },
            "marker": {
             "line": {
              "color": "#E5ECF6",
              "width": 0.5
             },
             "pattern": {
              "fillmode": "overlay",
              "size": 10,
              "solidity": 0.2
             }
            },
            "type": "bar"
           }
          ],
          "barpolar": [
           {
            "marker": {
             "line": {
              "color": "#E5ECF6",
              "width": 0.5
             },
             "pattern": {
              "fillmode": "overlay",
              "size": 10,
              "solidity": 0.2
             }
            },
            "type": "barpolar"
           }
          ],
          "carpet": [
           {
            "aaxis": {
             "endlinecolor": "#2a3f5f",
             "gridcolor": "white",
             "linecolor": "white",
             "minorgridcolor": "white",
             "startlinecolor": "#2a3f5f"
            },
            "baxis": {
             "endlinecolor": "#2a3f5f",
             "gridcolor": "white",
             "linecolor": "white",
             "minorgridcolor": "white",
             "startlinecolor": "#2a3f5f"
            },
            "type": "carpet"
           }
          ],
          "choropleth": [
           {
            "colorbar": {
             "outlinewidth": 0,
             "ticks": ""
            },
            "type": "choropleth"
           }
          ],
          "contour": [
           {
            "colorbar": {
             "outlinewidth": 0,
             "ticks": ""
            },
            "colorscale": [
             [
              0,
              "#0d0887"
             ],
             [
              0.1111111111111111,
              "#46039f"
             ],
             [
              0.2222222222222222,
              "#7201a8"
             ],
             [
              0.3333333333333333,
              "#9c179e"
             ],
             [
              0.4444444444444444,
              "#bd3786"
             ],
             [
              0.5555555555555556,
              "#d8576b"
             ],
             [
              0.6666666666666666,
              "#ed7953"
             ],
             [
              0.7777777777777778,
              "#fb9f3a"
             ],
             [
              0.8888888888888888,
              "#fdca26"
             ],
             [
              1,
              "#f0f921"
             ]
            ],
            "type": "contour"
           }
          ],
          "contourcarpet": [
           {
            "colorbar": {
             "outlinewidth": 0,
             "ticks": ""
            },
            "type": "contourcarpet"
           }
          ],
          "heatmap": [
           {
            "colorbar": {
             "outlinewidth": 0,
             "ticks": ""
            },
            "colorscale": [
             [
              0,
              "#0d0887"
             ],
             [
              0.1111111111111111,
              "#46039f"
             ],
             [
              0.2222222222222222,
              "#7201a8"
             ],
             [
              0.3333333333333333,
              "#9c179e"
             ],
             [
              0.4444444444444444,
              "#bd3786"
             ],
             [
              0.5555555555555556,
              "#d8576b"
             ],
             [
              0.6666666666666666,
              "#ed7953"
             ],
             [
              0.7777777777777778,
              "#fb9f3a"
             ],
             [
              0.8888888888888888,
              "#fdca26"
             ],
             [
              1,
              "#f0f921"
             ]
            ],
            "type": "heatmap"
           }
          ],
          "heatmapgl": [
           {
            "colorbar": {
             "outlinewidth": 0,
             "ticks": ""
            },
            "colorscale": [
             [
              0,
              "#0d0887"
             ],
             [
              0.1111111111111111,
              "#46039f"
             ],
             [
              0.2222222222222222,
              "#7201a8"
             ],
             [
              0.3333333333333333,
              "#9c179e"
             ],
             [
              0.4444444444444444,
              "#bd3786"
             ],
             [
              0.5555555555555556,
              "#d8576b"
             ],
             [
              0.6666666666666666,
              "#ed7953"
             ],
             [
              0.7777777777777778,
              "#fb9f3a"
             ],
             [
              0.8888888888888888,
              "#fdca26"
             ],
             [
              1,
              "#f0f921"
             ]
            ],
            "type": "heatmapgl"
           }
          ],
          "histogram": [
           {
            "marker": {
             "pattern": {
              "fillmode": "overlay",
              "size": 10,
              "solidity": 0.2
             }
            },
            "type": "histogram"
           }
          ],
          "histogram2d": [
           {
            "colorbar": {
             "outlinewidth": 0,
             "ticks": ""
            },
            "colorscale": [
             [
              0,
              "#0d0887"
             ],
             [
              0.1111111111111111,
              "#46039f"
             ],
             [
              0.2222222222222222,
              "#7201a8"
             ],
             [
              0.3333333333333333,
              "#9c179e"
             ],
             [
              0.4444444444444444,
              "#bd3786"
             ],
             [
              0.5555555555555556,
              "#d8576b"
             ],
             [
              0.6666666666666666,
              "#ed7953"
             ],
             [
              0.7777777777777778,
              "#fb9f3a"
             ],
             [
              0.8888888888888888,
              "#fdca26"
             ],
             [
              1,
              "#f0f921"
             ]
            ],
            "type": "histogram2d"
           }
          ],
          "histogram2dcontour": [
           {
            "colorbar": {
             "outlinewidth": 0,
             "ticks": ""
            },
            "colorscale": [
             [
              0,
              "#0d0887"
             ],
             [
              0.1111111111111111,
              "#46039f"
             ],
             [
              0.2222222222222222,
              "#7201a8"
             ],
             [
              0.3333333333333333,
              "#9c179e"
             ],
             [
              0.4444444444444444,
              "#bd3786"
             ],
             [
              0.5555555555555556,
              "#d8576b"
             ],
             [
              0.6666666666666666,
              "#ed7953"
             ],
             [
              0.7777777777777778,
              "#fb9f3a"
             ],
             [
              0.8888888888888888,
              "#fdca26"
             ],
             [
              1,
              "#f0f921"
             ]
            ],
            "type": "histogram2dcontour"
           }
          ],
          "mesh3d": [
           {
            "colorbar": {
             "outlinewidth": 0,
             "ticks": ""
            },
            "type": "mesh3d"
           }
          ],
          "parcoords": [
           {
            "line": {
             "colorbar": {
              "outlinewidth": 0,
              "ticks": ""
             }
            },
            "type": "parcoords"
           }
          ],
          "pie": [
           {
            "automargin": true,
            "type": "pie"
           }
          ],
          "scatter": [
           {
            "fillpattern": {
             "fillmode": "overlay",
             "size": 10,
             "solidity": 0.2
            },
            "type": "scatter"
           }
          ],
          "scatter3d": [
           {
            "line": {
             "colorbar": {
              "outlinewidth": 0,
              "ticks": ""
             }
            },
            "marker": {
             "colorbar": {
              "outlinewidth": 0,
              "ticks": ""
             }
            },
            "type": "scatter3d"
           }
          ],
          "scattercarpet": [
           {
            "marker": {
             "colorbar": {
              "outlinewidth": 0,
              "ticks": ""
             }
            },
            "type": "scattercarpet"
           }
          ],
          "scattergeo": [
           {
            "marker": {
             "colorbar": {
              "outlinewidth": 0,
              "ticks": ""
             }
            },
            "type": "scattergeo"
           }
          ],
          "scattergl": [
           {
            "marker": {
             "colorbar": {
              "outlinewidth": 0,
              "ticks": ""
             }
            },
            "type": "scattergl"
           }
          ],
          "scattermapbox": [
           {
            "marker": {
             "colorbar": {
              "outlinewidth": 0,
              "ticks": ""
             }
            },
            "type": "scattermapbox"
           }
          ],
          "scatterpolar": [
           {
            "marker": {
             "colorbar": {
              "outlinewidth": 0,
              "ticks": ""
             }
            },
            "type": "scatterpolar"
           }
          ],
          "scatterpolargl": [
           {
            "marker": {
             "colorbar": {
              "outlinewidth": 0,
              "ticks": ""
             }
            },
            "type": "scatterpolargl"
           }
          ],
          "scatterternary": [
           {
            "marker": {
             "colorbar": {
              "outlinewidth": 0,
              "ticks": ""
             }
            },
            "type": "scatterternary"
           }
          ],
          "surface": [
           {
            "colorbar": {
             "outlinewidth": 0,
             "ticks": ""
            },
            "colorscale": [
             [
              0,
              "#0d0887"
             ],
             [
              0.1111111111111111,
              "#46039f"
             ],
             [
              0.2222222222222222,
              "#7201a8"
             ],
             [
              0.3333333333333333,
              "#9c179e"
             ],
             [
              0.4444444444444444,
              "#bd3786"
             ],
             [
              0.5555555555555556,
              "#d8576b"
             ],
             [
              0.6666666666666666,
              "#ed7953"
             ],
             [
              0.7777777777777778,
              "#fb9f3a"
             ],
             [
              0.8888888888888888,
              "#fdca26"
             ],
             [
              1,
              "#f0f921"
             ]
            ],
            "type": "surface"
           }
          ],
          "table": [
           {
            "cells": {
             "fill": {
              "color": "#EBF0F8"
             },
             "line": {
              "color": "white"
             }
            },
            "header": {
             "fill": {
              "color": "#C8D4E3"
             },
             "line": {
              "color": "white"
             }
            },
            "type": "table"
           }
          ]
         },
         "layout": {
          "annotationdefaults": {
           "arrowcolor": "#2a3f5f",
           "arrowhead": 0,
           "arrowwidth": 1
          },
          "autotypenumbers": "strict",
          "coloraxis": {
           "colorbar": {
            "outlinewidth": 0,
            "ticks": ""
           }
          },
          "colorscale": {
           "diverging": [
            [
             0,
             "#8e0152"
            ],
            [
             0.1,
             "#c51b7d"
            ],
            [
             0.2,
             "#de77ae"
            ],
            [
             0.3,
             "#f1b6da"
            ],
            [
             0.4,
             "#fde0ef"
            ],
            [
             0.5,
             "#f7f7f7"
            ],
            [
             0.6,
             "#e6f5d0"
            ],
            [
             0.7,
             "#b8e186"
            ],
            [
             0.8,
             "#7fbc41"
            ],
            [
             0.9,
             "#4d9221"
            ],
            [
             1,
             "#276419"
            ]
           ],
           "sequential": [
            [
             0,
             "#0d0887"
            ],
            [
             0.1111111111111111,
             "#46039f"
            ],
            [
             0.2222222222222222,
             "#7201a8"
            ],
            [
             0.3333333333333333,
             "#9c179e"
            ],
            [
             0.4444444444444444,
             "#bd3786"
            ],
            [
             0.5555555555555556,
             "#d8576b"
            ],
            [
             0.6666666666666666,
             "#ed7953"
            ],
            [
             0.7777777777777778,
             "#fb9f3a"
            ],
            [
             0.8888888888888888,
             "#fdca26"
            ],
            [
             1,
             "#f0f921"
            ]
           ],
           "sequentialminus": [
            [
             0,
             "#0d0887"
            ],
            [
             0.1111111111111111,
             "#46039f"
            ],
            [
             0.2222222222222222,
             "#7201a8"
            ],
            [
             0.3333333333333333,
             "#9c179e"
            ],
            [
             0.4444444444444444,
             "#bd3786"
            ],
            [
             0.5555555555555556,
             "#d8576b"
            ],
            [
             0.6666666666666666,
             "#ed7953"
            ],
            [
             0.7777777777777778,
             "#fb9f3a"
            ],
            [
             0.8888888888888888,
             "#fdca26"
            ],
            [
             1,
             "#f0f921"
            ]
           ]
          },
          "colorway": [
           "#636efa",
           "#EF553B",
           "#00cc96",
           "#ab63fa",
           "#FFA15A",
           "#19d3f3",
           "#FF6692",
           "#B6E880",
           "#FF97FF",
           "#FECB52"
          ],
          "font": {
           "color": "#2a3f5f"
          },
          "geo": {
           "bgcolor": "white",
           "lakecolor": "white",
           "landcolor": "#E5ECF6",
           "showlakes": true,
           "showland": true,
           "subunitcolor": "white"
          },
          "hoverlabel": {
           "align": "left"
          },
          "hovermode": "closest",
          "mapbox": {
           "style": "light"
          },
          "paper_bgcolor": "white",
          "plot_bgcolor": "#E5ECF6",
          "polar": {
           "angularaxis": {
            "gridcolor": "white",
            "linecolor": "white",
            "ticks": ""
           },
           "bgcolor": "#E5ECF6",
           "radialaxis": {
            "gridcolor": "white",
            "linecolor": "white",
            "ticks": ""
           }
          },
          "scene": {
           "xaxis": {
            "backgroundcolor": "#E5ECF6",
            "gridcolor": "white",
            "gridwidth": 2,
            "linecolor": "white",
            "showbackground": true,
            "ticks": "",
            "zerolinecolor": "white"
           },
           "yaxis": {
            "backgroundcolor": "#E5ECF6",
            "gridcolor": "white",
            "gridwidth": 2,
            "linecolor": "white",
            "showbackground": true,
            "ticks": "",
            "zerolinecolor": "white"
           },
           "zaxis": {
            "backgroundcolor": "#E5ECF6",
            "gridcolor": "white",
            "gridwidth": 2,
            "linecolor": "white",
            "showbackground": true,
            "ticks": "",
            "zerolinecolor": "white"
           }
          },
          "shapedefaults": {
           "line": {
            "color": "#2a3f5f"
           }
          },
          "ternary": {
           "aaxis": {
            "gridcolor": "white",
            "linecolor": "white",
            "ticks": ""
           },
           "baxis": {
            "gridcolor": "white",
            "linecolor": "white",
            "ticks": ""
           },
           "bgcolor": "#E5ECF6",
           "caxis": {
            "gridcolor": "white",
            "linecolor": "white",
            "ticks": ""
           }
          },
          "title": {
           "x": 0.05
          },
          "xaxis": {
           "automargin": true,
           "gridcolor": "white",
           "linecolor": "white",
           "ticks": "",
           "title": {
            "standoff": 15
           },
           "zerolinecolor": "white",
           "zerolinewidth": 2
          },
          "yaxis": {
           "automargin": true,
           "gridcolor": "white",
           "linecolor": "white",
           "ticks": "",
           "title": {
            "standoff": 15
           },
           "zerolinecolor": "white",
           "zerolinewidth": 2
          }
         }
        },
        "title": {
         "text": "3D Scatter Plot of land_dist for 50 samples per group and 0.02 noise"
        }
       }
      }
     },
     "metadata": {},
     "output_type": "display_data"
    }
   ],
   "source": [
    "plot_norms('land_dist', 0.02, 50)"
   ]
  },
  {
   "cell_type": "code",
   "execution_count": 59,
   "id": "e284d3a2",
   "metadata": {},
   "outputs": [
    {
     "data": {
      "application/vnd.plotly.v1+json": {
       "config": {
        "plotlyServerURL": "https://plot.ly"
       },
       "data": [
        {
         "marker": {
          "color": "red",
          "opacity": 0.8,
          "size": 5
         },
         "mode": "markers",
         "name": "lat00",
         "type": "scatter3d",
         "x": [
          0.03982333466410637,
          0.05999109894037247,
          0.06370759755373001,
          0.06409145891666412,
          0.04461093619465828,
          0.03901217132806778,
          0.060634877532720566,
          0.050873469561338425,
          0.04292541369795799,
          0.07445233315229416,
          0.048294663429260254,
          0.06143637001514435,
          0.047625456005334854,
          0.050251554697752,
          0.060508087277412415,
          0.053974539041519165,
          0.05670391395688057,
          0.04957381263375282,
          0.03708171099424362,
          0.04933490604162216,
          0.08237844705581665
         ],
         "y": [
          0.005366828292608261,
          0.005244173109531403,
          0.009722881019115448,
          0.0036641862243413925,
          0.002737550064921379,
          0.006840040907263756,
          0.0035791806876659393,
          0.008223002776503563,
          0.008956938982009888,
          0.00927860476076603,
          0.004881160333752632,
          0.002679571509361267,
          0.002387816086411476,
          0.007193384692072868,
          0.0043812766671180725,
          0.007788565009832382,
          0.004763660952448845,
          0.006695972755551338,
          0.005476193502545357,
          0.00368416216224432,
          0.004823148250579834
         ],
         "z": [
          0,
          0.00013720616698265076,
          0.000780746340751648,
          0,
          0,
          0,
          0.0005346164107322693,
          0.0005923807621002197,
          0,
          0,
          0,
          0,
          0,
          0,
          0,
          0,
          0,
          0,
          0,
          0,
          0
         ]
        },
        {
         "marker": {
          "color": "blue",
          "opacity": 0.8,
          "size": 5
         },
         "mode": "markers",
         "name": "lat05",
         "type": "scatter3d",
         "x": [
          0.03250892460346222,
          0.029248325154185295,
          0.032710108906030655,
          0.0236788522452116,
          0.028641119599342346,
          0.025799980387091637,
          0.03456320986151695,
          0.039524950087070465,
          0.02593374252319336,
          0.026892077177762985,
          0.03295544534921646,
          0.03019547089934349,
          0.02587389387190342,
          0.028931399807333946,
          0.02999071404337883,
          0.026646431535482407,
          0.02562890388071537,
          0.030358748510479927,
          0.029656818136572838,
          0.0268560741096735,
          0.025838132947683334
         ],
         "y": [
          0.004087459295988083,
          0.004518128000199795,
          0.008520549163222313,
          0.007178682833909988,
          0.0041672345250844955,
          0.007809465751051903,
          0.00675119087100029,
          0.007780253887176514,
          0.0063210539519786835,
          0.005521470680832863,
          0.006735241040587425,
          0.007793771103024483,
          0.007922833785414696,
          0.009531237185001373,
          0.005812767893075943,
          0.004807589575648308,
          0.0074958037585020065,
          0.004422851838171482,
          0.004522833973169327,
          0.003301333636045456,
          0.0063489880412817
         ],
         "z": [
          0.001027468591928482,
          0.0011911168694496155,
          0.002240467816591263,
          0,
          0,
          0,
          0,
          0,
          0.0005860384553670883,
          0.000066317617893219,
          0,
          0,
          0,
          0.0014358516782522202,
          0,
          0.00044594891369342804,
          0.0006283000111579895,
          0.0011520367115736008,
          0.000541146844625473,
          0,
          0
         ]
        },
        {
         "marker": {
          "color": "green",
          "opacity": 0.8,
          "size": 5
         },
         "mode": "markers",
         "name": "lat10",
         "type": "scatter3d",
         "x": [
          0.020958703011274338,
          0.025644410401582718,
          0.014443415217101574,
          0.018160903826355934,
          0.022182531654834747,
          0.015200271271169186,
          0.01640431024134159,
          0.016663096845149994,
          0.014519194141030312,
          0.016597187146544456,
          0.01548863761126995,
          0.01642756164073944,
          0.014781521633267403,
          0.012440112419426441,
          0.01752600446343422,
          0.014470361173152924,
          0.018668975681066513,
          0.015291936695575714,
          0.018885836005210876,
          0.01693023182451725,
          0.015242083929479122
         ],
         "y": [
          0.004269848577678204,
          0.004025529138743877,
          0.003376535139977932,
          0.0040742624551057816,
          0.003300548531115055,
          0.0031864517368376255,
          0.00391043908894062,
          0.003917404916137457,
          0.004384160041809082,
          0.003912556916475296,
          0.0031997920013964176,
          0.0058399103581905365,
          0.0034321602433919907,
          0.004641640931367874,
          0.004727719817310572,
          0.00402729120105505,
          0.0046105096116662025,
          0.00385495088994503,
          0.004410868044942617,
          0.004083485342562199,
          0.0033684251829981804
         ],
         "z": [
          0.0006905728951096535,
          0.0007354021072387695,
          0.0008233562111854553,
          0.0007129153236746788,
          0.0004946524277329445,
          0.0005149012431502342,
          0.0006861956790089607,
          0.0019104331731796265,
          0.00036698952317237854,
          0.0012609651312232018,
          0.0007610637694597244,
          0.0008418671786785126,
          0.0014887982979416847,
          0.0008503943681716919,
          0.0002789432182908058,
          0.0009002573788166046,
          0.0016785087063908577,
          0.0011917809024453163,
          0.0009299172088503838,
          0.0007046312093734741,
          0.001199197955429554
         ]
        },
        {
         "marker": {
          "color": "purple",
          "opacity": 0.8,
          "size": 5
         },
         "mode": "markers",
         "name": "lat15",
         "type": "scatter3d",
         "x": [
          0.026330720633268356,
          0.024234605953097343,
          0.025315186008810997,
          0.025410901755094528,
          0.02487281523644924,
          0.017353875562548637,
          0.02175414189696312,
          0.01809987798333168,
          0.023304753005504608,
          0.036194391548633575,
          0.028734568506479263,
          0.023897556588053703,
          0.02496277168393135,
          0.03006099723279476,
          0.030951423570513725,
          0.02495472878217697,
          0.021412935107946396,
          0.02016165480017662,
          0.020433593541383743,
          0.027957769110798836,
          0.02513277716934681
         ],
         "y": [
          0.005951857194304466,
          0.00624016672372818,
          0.00721073430031538,
          0.007841946557164192,
          0.00613570399582386,
          0.0038656871765851974,
          0.004517463967204094,
          0.009358832612633705,
          0.005530554801225662,
          0.003911593928933144,
          0.004897113889455795,
          0.006234023720026016,
          0.005416391417384148,
          0.003942637704312801,
          0.0033963900059461594,
          0.005180861800909042,
          0.006518285721540451,
          0.010247839614748955,
          0.008552689105272293,
          0.005065977573394775,
          0.005714925937354565
         ],
         "z": [
          0.0010923966765403748,
          0.00028014741837978363,
          0,
          0.0005953256040811539,
          0,
          0.000164765864610672,
          0,
          0,
          0.001164829358458519,
          0.0000623166561126709,
          0.0010929536074399948,
          0.00040323659777641296,
          0,
          0,
          0.00015825405716896057,
          0.00029668956995010376,
          0,
          0.0022674202919006348,
          0.0014252495020627975,
          0.0004060547798871994,
          0.0015604998916387558
         ]
        },
        {
         "marker": {
          "color": "orange",
          "opacity": 0.8,
          "size": 5
         },
         "mode": "markers",
         "name": "lat20",
         "type": "scatter3d",
         "x": [
          0.03314164653420448,
          0.03832852467894554,
          0.02818094566464424,
          0.02917427010834217,
          0.03227465972304344,
          0.02691088803112507,
          0.027344929054379463,
          0.0325983464717865,
          0.03726063668727875,
          0.04458005353808403,
          0.02916513942182064,
          0.03358243405818939,
          0.028218112885951996,
          0.02733600325882435,
          0.036501444876194,
          0.03068588860332966,
          0.04431908205151558,
          0.026657190173864365,
          0.030946997925639153,
          0.034509941935539246,
          0.033521320670843124
         ],
         "y": [
          0.006500605493783951,
          0.00617181695997715,
          0.00455450639128685,
          0.00385948084294796,
          0.006600713357329369,
          0.003935599699616432,
          0.003970419988036156,
          0.005406370386481285,
          0.008519699797034264,
          0.005166115239262581,
          0.005640663206577301,
          0.005367955192923546,
          0.002970688045024872,
          0.006770903244614601,
          0.005500068888068199,
          0.006133124232292175,
          0.003059839829802513,
          0.005484968423843384,
          0.005693355575203896,
          0.004091024398803711,
          0.007964318618178368
         ],
         "z": [
          0.0005712602287530899,
          0.0010701809078454971,
          0.00011994130909442902,
          0,
          0.00015926919877529144,
          0.0012715496122837067,
          0,
          0,
          0,
          0.00045147910714149475,
          0.0011370182037353516,
          0,
          0,
          0,
          0.0013243760913610458,
          0.00044417940080165863,
          0,
          0,
          0.0007156617939472198,
          0,
          0
         ]
        }
       ],
       "layout": {
        "scene": {
         "xaxis": {
          "title": {
           "text": "X"
          }
         },
         "yaxis": {
          "title": {
           "text": "Y"
          }
         },
         "zaxis": {
          "title": {
           "text": "Z"
          }
         }
        },
        "template": {
         "data": {
          "bar": [
           {
            "error_x": {
             "color": "#2a3f5f"
            },
            "error_y": {
             "color": "#2a3f5f"
            },
            "marker": {
             "line": {
              "color": "#E5ECF6",
              "width": 0.5
             },
             "pattern": {
              "fillmode": "overlay",
              "size": 10,
              "solidity": 0.2
             }
            },
            "type": "bar"
           }
          ],
          "barpolar": [
           {
            "marker": {
             "line": {
              "color": "#E5ECF6",
              "width": 0.5
             },
             "pattern": {
              "fillmode": "overlay",
              "size": 10,
              "solidity": 0.2
             }
            },
            "type": "barpolar"
           }
          ],
          "carpet": [
           {
            "aaxis": {
             "endlinecolor": "#2a3f5f",
             "gridcolor": "white",
             "linecolor": "white",
             "minorgridcolor": "white",
             "startlinecolor": "#2a3f5f"
            },
            "baxis": {
             "endlinecolor": "#2a3f5f",
             "gridcolor": "white",
             "linecolor": "white",
             "minorgridcolor": "white",
             "startlinecolor": "#2a3f5f"
            },
            "type": "carpet"
           }
          ],
          "choropleth": [
           {
            "colorbar": {
             "outlinewidth": 0,
             "ticks": ""
            },
            "type": "choropleth"
           }
          ],
          "contour": [
           {
            "colorbar": {
             "outlinewidth": 0,
             "ticks": ""
            },
            "colorscale": [
             [
              0,
              "#0d0887"
             ],
             [
              0.1111111111111111,
              "#46039f"
             ],
             [
              0.2222222222222222,
              "#7201a8"
             ],
             [
              0.3333333333333333,
              "#9c179e"
             ],
             [
              0.4444444444444444,
              "#bd3786"
             ],
             [
              0.5555555555555556,
              "#d8576b"
             ],
             [
              0.6666666666666666,
              "#ed7953"
             ],
             [
              0.7777777777777778,
              "#fb9f3a"
             ],
             [
              0.8888888888888888,
              "#fdca26"
             ],
             [
              1,
              "#f0f921"
             ]
            ],
            "type": "contour"
           }
          ],
          "contourcarpet": [
           {
            "colorbar": {
             "outlinewidth": 0,
             "ticks": ""
            },
            "type": "contourcarpet"
           }
          ],
          "heatmap": [
           {
            "colorbar": {
             "outlinewidth": 0,
             "ticks": ""
            },
            "colorscale": [
             [
              0,
              "#0d0887"
             ],
             [
              0.1111111111111111,
              "#46039f"
             ],
             [
              0.2222222222222222,
              "#7201a8"
             ],
             [
              0.3333333333333333,
              "#9c179e"
             ],
             [
              0.4444444444444444,
              "#bd3786"
             ],
             [
              0.5555555555555556,
              "#d8576b"
             ],
             [
              0.6666666666666666,
              "#ed7953"
             ],
             [
              0.7777777777777778,
              "#fb9f3a"
             ],
             [
              0.8888888888888888,
              "#fdca26"
             ],
             [
              1,
              "#f0f921"
             ]
            ],
            "type": "heatmap"
           }
          ],
          "heatmapgl": [
           {
            "colorbar": {
             "outlinewidth": 0,
             "ticks": ""
            },
            "colorscale": [
             [
              0,
              "#0d0887"
             ],
             [
              0.1111111111111111,
              "#46039f"
             ],
             [
              0.2222222222222222,
              "#7201a8"
             ],
             [
              0.3333333333333333,
              "#9c179e"
             ],
             [
              0.4444444444444444,
              "#bd3786"
             ],
             [
              0.5555555555555556,
              "#d8576b"
             ],
             [
              0.6666666666666666,
              "#ed7953"
             ],
             [
              0.7777777777777778,
              "#fb9f3a"
             ],
             [
              0.8888888888888888,
              "#fdca26"
             ],
             [
              1,
              "#f0f921"
             ]
            ],
            "type": "heatmapgl"
           }
          ],
          "histogram": [
           {
            "marker": {
             "pattern": {
              "fillmode": "overlay",
              "size": 10,
              "solidity": 0.2
             }
            },
            "type": "histogram"
           }
          ],
          "histogram2d": [
           {
            "colorbar": {
             "outlinewidth": 0,
             "ticks": ""
            },
            "colorscale": [
             [
              0,
              "#0d0887"
             ],
             [
              0.1111111111111111,
              "#46039f"
             ],
             [
              0.2222222222222222,
              "#7201a8"
             ],
             [
              0.3333333333333333,
              "#9c179e"
             ],
             [
              0.4444444444444444,
              "#bd3786"
             ],
             [
              0.5555555555555556,
              "#d8576b"
             ],
             [
              0.6666666666666666,
              "#ed7953"
             ],
             [
              0.7777777777777778,
              "#fb9f3a"
             ],
             [
              0.8888888888888888,
              "#fdca26"
             ],
             [
              1,
              "#f0f921"
             ]
            ],
            "type": "histogram2d"
           }
          ],
          "histogram2dcontour": [
           {
            "colorbar": {
             "outlinewidth": 0,
             "ticks": ""
            },
            "colorscale": [
             [
              0,
              "#0d0887"
             ],
             [
              0.1111111111111111,
              "#46039f"
             ],
             [
              0.2222222222222222,
              "#7201a8"
             ],
             [
              0.3333333333333333,
              "#9c179e"
             ],
             [
              0.4444444444444444,
              "#bd3786"
             ],
             [
              0.5555555555555556,
              "#d8576b"
             ],
             [
              0.6666666666666666,
              "#ed7953"
             ],
             [
              0.7777777777777778,
              "#fb9f3a"
             ],
             [
              0.8888888888888888,
              "#fdca26"
             ],
             [
              1,
              "#f0f921"
             ]
            ],
            "type": "histogram2dcontour"
           }
          ],
          "mesh3d": [
           {
            "colorbar": {
             "outlinewidth": 0,
             "ticks": ""
            },
            "type": "mesh3d"
           }
          ],
          "parcoords": [
           {
            "line": {
             "colorbar": {
              "outlinewidth": 0,
              "ticks": ""
             }
            },
            "type": "parcoords"
           }
          ],
          "pie": [
           {
            "automargin": true,
            "type": "pie"
           }
          ],
          "scatter": [
           {
            "fillpattern": {
             "fillmode": "overlay",
             "size": 10,
             "solidity": 0.2
            },
            "type": "scatter"
           }
          ],
          "scatter3d": [
           {
            "line": {
             "colorbar": {
              "outlinewidth": 0,
              "ticks": ""
             }
            },
            "marker": {
             "colorbar": {
              "outlinewidth": 0,
              "ticks": ""
             }
            },
            "type": "scatter3d"
           }
          ],
          "scattercarpet": [
           {
            "marker": {
             "colorbar": {
              "outlinewidth": 0,
              "ticks": ""
             }
            },
            "type": "scattercarpet"
           }
          ],
          "scattergeo": [
           {
            "marker": {
             "colorbar": {
              "outlinewidth": 0,
              "ticks": ""
             }
            },
            "type": "scattergeo"
           }
          ],
          "scattergl": [
           {
            "marker": {
             "colorbar": {
              "outlinewidth": 0,
              "ticks": ""
             }
            },
            "type": "scattergl"
           }
          ],
          "scattermapbox": [
           {
            "marker": {
             "colorbar": {
              "outlinewidth": 0,
              "ticks": ""
             }
            },
            "type": "scattermapbox"
           }
          ],
          "scatterpolar": [
           {
            "marker": {
             "colorbar": {
              "outlinewidth": 0,
              "ticks": ""
             }
            },
            "type": "scatterpolar"
           }
          ],
          "scatterpolargl": [
           {
            "marker": {
             "colorbar": {
              "outlinewidth": 0,
              "ticks": ""
             }
            },
            "type": "scatterpolargl"
           }
          ],
          "scatterternary": [
           {
            "marker": {
             "colorbar": {
              "outlinewidth": 0,
              "ticks": ""
             }
            },
            "type": "scatterternary"
           }
          ],
          "surface": [
           {
            "colorbar": {
             "outlinewidth": 0,
             "ticks": ""
            },
            "colorscale": [
             [
              0,
              "#0d0887"
             ],
             [
              0.1111111111111111,
              "#46039f"
             ],
             [
              0.2222222222222222,
              "#7201a8"
             ],
             [
              0.3333333333333333,
              "#9c179e"
             ],
             [
              0.4444444444444444,
              "#bd3786"
             ],
             [
              0.5555555555555556,
              "#d8576b"
             ],
             [
              0.6666666666666666,
              "#ed7953"
             ],
             [
              0.7777777777777778,
              "#fb9f3a"
             ],
             [
              0.8888888888888888,
              "#fdca26"
             ],
             [
              1,
              "#f0f921"
             ]
            ],
            "type": "surface"
           }
          ],
          "table": [
           {
            "cells": {
             "fill": {
              "color": "#EBF0F8"
             },
             "line": {
              "color": "white"
             }
            },
            "header": {
             "fill": {
              "color": "#C8D4E3"
             },
             "line": {
              "color": "white"
             }
            },
            "type": "table"
           }
          ]
         },
         "layout": {
          "annotationdefaults": {
           "arrowcolor": "#2a3f5f",
           "arrowhead": 0,
           "arrowwidth": 1
          },
          "autotypenumbers": "strict",
          "coloraxis": {
           "colorbar": {
            "outlinewidth": 0,
            "ticks": ""
           }
          },
          "colorscale": {
           "diverging": [
            [
             0,
             "#8e0152"
            ],
            [
             0.1,
             "#c51b7d"
            ],
            [
             0.2,
             "#de77ae"
            ],
            [
             0.3,
             "#f1b6da"
            ],
            [
             0.4,
             "#fde0ef"
            ],
            [
             0.5,
             "#f7f7f7"
            ],
            [
             0.6,
             "#e6f5d0"
            ],
            [
             0.7,
             "#b8e186"
            ],
            [
             0.8,
             "#7fbc41"
            ],
            [
             0.9,
             "#4d9221"
            ],
            [
             1,
             "#276419"
            ]
           ],
           "sequential": [
            [
             0,
             "#0d0887"
            ],
            [
             0.1111111111111111,
             "#46039f"
            ],
            [
             0.2222222222222222,
             "#7201a8"
            ],
            [
             0.3333333333333333,
             "#9c179e"
            ],
            [
             0.4444444444444444,
             "#bd3786"
            ],
            [
             0.5555555555555556,
             "#d8576b"
            ],
            [
             0.6666666666666666,
             "#ed7953"
            ],
            [
             0.7777777777777778,
             "#fb9f3a"
            ],
            [
             0.8888888888888888,
             "#fdca26"
            ],
            [
             1,
             "#f0f921"
            ]
           ],
           "sequentialminus": [
            [
             0,
             "#0d0887"
            ],
            [
             0.1111111111111111,
             "#46039f"
            ],
            [
             0.2222222222222222,
             "#7201a8"
            ],
            [
             0.3333333333333333,
             "#9c179e"
            ],
            [
             0.4444444444444444,
             "#bd3786"
            ],
            [
             0.5555555555555556,
             "#d8576b"
            ],
            [
             0.6666666666666666,
             "#ed7953"
            ],
            [
             0.7777777777777778,
             "#fb9f3a"
            ],
            [
             0.8888888888888888,
             "#fdca26"
            ],
            [
             1,
             "#f0f921"
            ]
           ]
          },
          "colorway": [
           "#636efa",
           "#EF553B",
           "#00cc96",
           "#ab63fa",
           "#FFA15A",
           "#19d3f3",
           "#FF6692",
           "#B6E880",
           "#FF97FF",
           "#FECB52"
          ],
          "font": {
           "color": "#2a3f5f"
          },
          "geo": {
           "bgcolor": "white",
           "lakecolor": "white",
           "landcolor": "#E5ECF6",
           "showlakes": true,
           "showland": true,
           "subunitcolor": "white"
          },
          "hoverlabel": {
           "align": "left"
          },
          "hovermode": "closest",
          "mapbox": {
           "style": "light"
          },
          "paper_bgcolor": "white",
          "plot_bgcolor": "#E5ECF6",
          "polar": {
           "angularaxis": {
            "gridcolor": "white",
            "linecolor": "white",
            "ticks": ""
           },
           "bgcolor": "#E5ECF6",
           "radialaxis": {
            "gridcolor": "white",
            "linecolor": "white",
            "ticks": ""
           }
          },
          "scene": {
           "xaxis": {
            "backgroundcolor": "#E5ECF6",
            "gridcolor": "white",
            "gridwidth": 2,
            "linecolor": "white",
            "showbackground": true,
            "ticks": "",
            "zerolinecolor": "white"
           },
           "yaxis": {
            "backgroundcolor": "#E5ECF6",
            "gridcolor": "white",
            "gridwidth": 2,
            "linecolor": "white",
            "showbackground": true,
            "ticks": "",
            "zerolinecolor": "white"
           },
           "zaxis": {
            "backgroundcolor": "#E5ECF6",
            "gridcolor": "white",
            "gridwidth": 2,
            "linecolor": "white",
            "showbackground": true,
            "ticks": "",
            "zerolinecolor": "white"
           }
          },
          "shapedefaults": {
           "line": {
            "color": "#2a3f5f"
           }
          },
          "ternary": {
           "aaxis": {
            "gridcolor": "white",
            "linecolor": "white",
            "ticks": ""
           },
           "baxis": {
            "gridcolor": "white",
            "linecolor": "white",
            "ticks": ""
           },
           "bgcolor": "#E5ECF6",
           "caxis": {
            "gridcolor": "white",
            "linecolor": "white",
            "ticks": ""
           }
          },
          "title": {
           "x": 0.05
          },
          "xaxis": {
           "automargin": true,
           "gridcolor": "white",
           "linecolor": "white",
           "ticks": "",
           "title": {
            "standoff": 15
           },
           "zerolinecolor": "white",
           "zerolinewidth": 2
          },
          "yaxis": {
           "automargin": true,
           "gridcolor": "white",
           "linecolor": "white",
           "ticks": "",
           "title": {
            "standoff": 15
           },
           "zerolinecolor": "white",
           "zerolinewidth": 2
          }
         }
        },
        "title": {
         "text": "3D Scatter Plot of bot_dist for 100 samples per group and 0.02 noise"
        }
       }
      }
     },
     "metadata": {},
     "output_type": "display_data"
    }
   ],
   "source": [
    "plot_norms('bot_dist', 0.02, 100)"
   ]
  },
  {
   "cell_type": "code",
   "execution_count": 41,
   "id": "559d1a60",
   "metadata": {},
   "outputs": [
    {
     "data": {
      "application/vnd.plotly.v1+json": {
       "config": {
        "plotlyServerURL": "https://plot.ly"
       },
       "data": [
        {
         "marker": {
          "color": "red",
          "opacity": 0.8,
          "size": 5
         },
         "mode": "markers",
         "name": "lat00",
         "type": "scatter3d",
         "x": [
          5.1362693102758925,
          4.986971941359366,
          5.14304329215601,
          5.020985493617024,
          4.994218708985013,
          4.996007424115811,
          5.154197000096746,
          5.1555348693035725,
          5.07159246228013,
          4.977221201929414,
          5.139079502856394,
          5.226170769537609,
          5.07284493101035,
          5.140979628531274,
          5.121939670829638,
          5.131139371691842,
          5.203987193830924,
          5.127747287592589,
          5.205673209304193,
          4.819389608333571,
          5.207849240252111,
          5.030075759308916,
          4.714839149851798,
          5.218951693332198,
          4.942713448223521,
          5.089774918171391,
          5.078920646588672,
          5.037763280098578,
          4.973367661148594,
          4.960106612057052,
          5.130358160024802,
          5.2564333408317765,
          5.117823084798947,
          4.971861120951575,
          5.078532306565125,
          4.83069521128428,
          5.034556235031769,
          5.024033117777031,
          5.156063468385673,
          5.129707229436521,
          5.071482718118384,
          4.9590495811017625
         ],
         "y": [
          -1,
          -1,
          -1,
          0,
          -1,
          -1,
          -1,
          -1,
          -1,
          0,
          -1,
          -1,
          -1,
          -1,
          -1,
          -1,
          -1,
          -1,
          0,
          -1,
          -1,
          0,
          0,
          -1,
          0,
          0,
          -1,
          -1,
          -1,
          0,
          -1,
          -1,
          -1,
          -1,
          -1,
          -1,
          -1,
          0,
          0,
          -1,
          -1,
          0.9692059560272563
         ],
         "z": [
          -1,
          -1,
          -1,
          -1,
          -1,
          -1,
          -1,
          -1,
          -1,
          -1,
          -1,
          -1,
          -1,
          -1,
          -1,
          -1,
          -1,
          -1,
          -1,
          -1,
          -1,
          -1,
          -1,
          -1,
          -1,
          -1,
          -1,
          -1,
          -1,
          -1,
          -1,
          -1,
          -1,
          -1,
          -1,
          -1,
          -1,
          -1,
          -1,
          -1,
          -1,
          -1
         ]
        },
        {
         "marker": {
          "color": "blue",
          "opacity": 0.8,
          "size": 5
         },
         "mode": "markers",
         "name": "lat05",
         "type": "scatter3d",
         "x": [
          5.232475911869554,
          5.218948655191218,
          5.239804623006686,
          5.24737702389319,
          5.1461535050326415,
          5.313512382206145,
          5.208645256459073,
          5.2332155759956,
          5.149024018420061,
          5.186823692371088,
          5.230832904906758,
          5.168977045436592,
          5.1142355351856335,
          5.309021765928359,
          5.245653847108781,
          5.12199678696996,
          5.155684957009207,
          5.145929903540882,
          5.265796633686106,
          5.221443836565393,
          5.068149360671088,
          5.1039976323024945,
          5.170170566124281,
          5.1416714126956835,
          5.207339366085687,
          5.241880871641424,
          5.134427714823603,
          5.260823522145369,
          5.051080163562466,
          5.088218343787814,
          5.222425596469632,
          5.251752281725587,
          5.171981118325207,
          5.2857173218077005,
          5.326138838897539,
          5.119307174779094,
          5.313645169145747,
          5.334796833518796,
          5.344899831426864,
          5.33316900994113,
          5.245976267739621,
          5.086893046340189
         ],
         "y": [
          0,
          0.8873436035895137,
          -1,
          1.2087908867830182,
          0.838615289045219,
          -1,
          0,
          -1,
          -1,
          -1,
          0,
          0,
          -1,
          -1,
          0,
          -1,
          1.4053905535191382,
          -1,
          0.997423802709649,
          -1,
          1.4885245744606899,
          0.6475419506285595,
          0.6356652053282352,
          -1,
          0.990661173416624,
          0,
          0,
          1.5538516718916238,
          0.9808633939916879,
          -1,
          -1,
          -1,
          0,
          1.2669946777581484,
          0,
          0,
          0.9044226489865848,
          -1,
          0,
          -1,
          0.851366338715887,
          0.8058696878744689
         ],
         "z": [
          -1,
          -1,
          -1,
          -1,
          -1,
          -1,
          -1,
          -1,
          -1,
          -1,
          -1,
          -1,
          -1,
          -1,
          -1,
          -1,
          -1,
          -1,
          -1,
          -1,
          -1,
          -1,
          -1,
          -1,
          -1,
          -1,
          -1,
          -1,
          -1,
          -1,
          -1,
          -1,
          -1,
          -1,
          -1,
          -1,
          -1,
          -1,
          -1,
          -1,
          -1,
          -1
         ]
        },
        {
         "marker": {
          "color": "green",
          "opacity": 0.8,
          "size": 5
         },
         "mode": "markers",
         "name": "lat10",
         "type": "scatter3d",
         "x": [
          5.469514174259979,
          5.532521934126618,
          5.485610150781564,
          5.534588672308634,
          5.478333666814949,
          5.441216405173091,
          5.458009447631952,
          5.463749915885844,
          5.4553896034795,
          5.509408591405052,
          5.460499243150429,
          5.459438616856068,
          5.48429084897178,
          5.4642152932414945,
          5.512089411925779,
          5.441555874647509,
          5.373198724316131,
          5.51181254848159,
          5.482357286213484,
          5.434090667095009,
          5.427913416257502,
          5.457091908223167,
          5.4742150767472815,
          5.516614934451463,
          5.45762821306158,
          5.485626405391823,
          5.421651029188659,
          5.517427488556009,
          5.49783730529088,
          5.50536163869949,
          5.502389833291923,
          5.455161403190175,
          5.525057972041358,
          5.4881077119722494,
          5.51085414381106,
          5.4884556041328905,
          5.50401669308697,
          5.562125800816967,
          5.478884737440549,
          5.48887160520116,
          5.473213329995129,
          5.518077918985739
         ],
         "y": [
          3.031968416642292,
          3.8199153775703443,
          2.878523384902567,
          3.7865794343060313,
          2.9503818817913317,
          3.4044383900776225,
          3.3192832093415814,
          3.8431726575524903,
          2.8839955151296444,
          3.7547644527154476,
          3.7702335499771653,
          3.144290540424339,
          3.2443105705724147,
          3.176923592177769,
          3.4685044524746056,
          3.2462782969183075,
          3.044087658108681,
          3.0168317246255594,
          2.874220113061516,
          3.340566179842752,
          3.0079006848674013,
          3.4021804917389735,
          3.2409397188768154,
          3.536065597552026,
          3.669878284885006,
          3.163914465819478,
          2.487079005911483,
          3.5932196693444114,
          3.4138938989286816,
          3.64356012039915,
          3.0280686865115536,
          3.5119144605515027,
          3.292263508704171,
          3.2888222006921697,
          3.3810376394736745,
          3.5096179750243555,
          3.5323598001661014,
          3.9369104100813,
          2.9202840203732303,
          3.0841872200617013,
          2.9087072382734003,
          3.6983400124062964
         ],
         "z": [
          0.831488600165704,
          0,
          0,
          -1,
          -1,
          0,
          0.8626859856302049,
          0.9672826019301152,
          0.44554987548009084,
          1.5263583294322887,
          0.7648090820063881,
          0,
          0,
          -1,
          0,
          0,
          0.6265318071634053,
          0,
          -1,
          0.6711805100717869,
          -1,
          0,
          0,
          0,
          0.9892639144890487,
          0,
          0.9055209678574944,
          0,
          0.1350342870662239,
          0.7962488515375031,
          -1,
          -1,
          0.893641059845398,
          -1,
          0.8545308246771601,
          0.864795352917241,
          0,
          0,
          -1,
          0.5499816932410277,
          0.964761176774321,
          1.4784090370732343
         ]
        },
        {
         "marker": {
          "color": "purple",
          "opacity": 0.8,
          "size": 5
         },
         "mode": "markers",
         "name": "lat15",
         "type": "scatter3d",
         "x": [
          5.407863671586798,
          5.474086650250714,
          5.387696777504323,
          5.336591638286087,
          5.329613326549509,
          5.390092587537355,
          5.214976434505878,
          5.404480825822597,
          5.264398169990828,
          5.283594781255568,
          5.220613682507381,
          5.361637137865179,
          5.314764330382308,
          5.373857520618919,
          5.235305429813423,
          5.248935440052801,
          5.265362749756755,
          5.235266603674555,
          5.2881796312843745,
          5.405069806812161,
          5.392777353905787,
          5.2793232822732055,
          5.173025620534629,
          5.3920376315227685,
          5.3644682284809955,
          5.436373487705478,
          5.307565316061593,
          5.320564655172918,
          5.19682413436496,
          5.336458572661659,
          5.3204191254986135,
          5.402989779324443,
          5.338558647473625,
          5.433358021656589,
          5.421691427308517,
          5.299435840315325,
          5.332527752771263,
          5.303899768996246,
          5.2840721235020665,
          5.441721883244227,
          5.299916080463334,
          5.293414887797986
         ],
         "y": [
          0,
          0,
          0,
          0.8399056031757792,
          0.9064346426298922,
          1.169395950054174,
          0,
          0.3114920684802914,
          0.2505528645520435,
          1.5089727422128072,
          -1,
          0.8379733173330743,
          0.49170780245180157,
          1.5191593605287244,
          1.4088970657729887,
          0.9800749476937665,
          0.8090721367826978,
          1.3573392139795024,
          0,
          0,
          0,
          -1,
          1.3366020555360805,
          0,
          0,
          0,
          -1,
          -1,
          1.3702480342849352,
          0.935450582240342,
          0,
          0.9891309322625289,
          0.9888584196864628,
          0,
          0.3230541364062967,
          0.24793427424209685,
          1.8025449943106515,
          -1,
          0,
          0.9971038531356206,
          1.428945436957462,
          0.5110942949833259
         ],
         "z": [
          -1,
          -1,
          -1,
          -1,
          -1,
          -1,
          -1,
          -1,
          -1,
          -1,
          -1,
          -1,
          -1,
          -1,
          -1,
          -1,
          -1,
          -1,
          -1,
          -1,
          -1,
          -1,
          -1,
          -1,
          -1,
          -1,
          -1,
          -1,
          -1,
          -1,
          -1,
          -1,
          -1,
          -1,
          -1,
          -1,
          -1,
          -1,
          -1,
          -1,
          -1,
          -1
         ]
        },
        {
         "marker": {
          "color": "orange",
          "opacity": 0.8,
          "size": 5
         },
         "mode": "markers",
         "name": "lat20",
         "type": "scatter3d",
         "x": [
          5.05873552154393,
          5.3139559417617575,
          5.203444487519494,
          5.182565863956921,
          5.296682109367703,
          5.131997292921472,
          5.129976234923521,
          5.123743992607146,
          5.282053565805697,
          5.037545651283908,
          4.989774487692691,
          5.062124981292805,
          5.2334821069365,
          5.116378984097665,
          5.15373982046804,
          5.252470848075017,
          5.132336886566562,
          5.081346704615883,
          5.287952060712781,
          5.086609667604219,
          5.248784144061293,
          5.0982935530635745,
          5.2681671990894685,
          5.106070182143435,
          5.278284486731949,
          5.235407107268882,
          5.254432272123955,
          5.1681286775515005,
          5.328034805153722,
          5.1720270922861795,
          5.169786557867254,
          5.11464598734194,
          5.288597473675063,
          5.185457941518636,
          5.21831136495354,
          5.295033705899786,
          5.275262400617101,
          5.3950468015491815,
          5.154603524525547,
          5.214892553976536,
          5.294379764691832,
          5.220266942600254
         ],
         "y": [
          -1,
          0,
          -1,
          0.7941683713453331,
          -1,
          0,
          0.8053527551438535,
          1.746845357051108,
          -1,
          1.2953486646556969,
          1.8181004105764011,
          0.8302573408892567,
          -1,
          -1,
          -1,
          0.4175380717764226,
          -1,
          0,
          0.48510590215906224,
          -1,
          0,
          0,
          0.9534431023380776,
          -1,
          -1,
          1.3792697949106045,
          0,
          -1,
          -1,
          0,
          0.9828959090701506,
          1.6243693134396644,
          0,
          -1,
          0.37858088583370286,
          0,
          -1,
          -1,
          0,
          -1,
          0,
          0
         ],
         "z": [
          -1,
          -1,
          -1,
          -1,
          -1,
          -1,
          -1,
          0,
          -1,
          -1,
          -1,
          -1,
          -1,
          -1,
          -1,
          -1,
          -1,
          -1,
          -1,
          -1,
          -1,
          -1,
          -1,
          -1,
          -1,
          -1,
          -1,
          -1,
          -1,
          -1,
          -1,
          -1,
          -1,
          -1,
          -1,
          -1,
          -1,
          -1,
          -1,
          -1,
          -1,
          -1
         ]
        }
       ],
       "layout": {
        "scene": {
         "xaxis": {
          "title": {
           "text": "X"
          }
         },
         "yaxis": {
          "title": {
           "text": "Y"
          }
         },
         "zaxis": {
          "title": {
           "text": "Z"
          }
         }
        },
        "template": {
         "data": {
          "bar": [
           {
            "error_x": {
             "color": "#2a3f5f"
            },
            "error_y": {
             "color": "#2a3f5f"
            },
            "marker": {
             "line": {
              "color": "#E5ECF6",
              "width": 0.5
             },
             "pattern": {
              "fillmode": "overlay",
              "size": 10,
              "solidity": 0.2
             }
            },
            "type": "bar"
           }
          ],
          "barpolar": [
           {
            "marker": {
             "line": {
              "color": "#E5ECF6",
              "width": 0.5
             },
             "pattern": {
              "fillmode": "overlay",
              "size": 10,
              "solidity": 0.2
             }
            },
            "type": "barpolar"
           }
          ],
          "carpet": [
           {
            "aaxis": {
             "endlinecolor": "#2a3f5f",
             "gridcolor": "white",
             "linecolor": "white",
             "minorgridcolor": "white",
             "startlinecolor": "#2a3f5f"
            },
            "baxis": {
             "endlinecolor": "#2a3f5f",
             "gridcolor": "white",
             "linecolor": "white",
             "minorgridcolor": "white",
             "startlinecolor": "#2a3f5f"
            },
            "type": "carpet"
           }
          ],
          "choropleth": [
           {
            "colorbar": {
             "outlinewidth": 0,
             "ticks": ""
            },
            "type": "choropleth"
           }
          ],
          "contour": [
           {
            "colorbar": {
             "outlinewidth": 0,
             "ticks": ""
            },
            "colorscale": [
             [
              0,
              "#0d0887"
             ],
             [
              0.1111111111111111,
              "#46039f"
             ],
             [
              0.2222222222222222,
              "#7201a8"
             ],
             [
              0.3333333333333333,
              "#9c179e"
             ],
             [
              0.4444444444444444,
              "#bd3786"
             ],
             [
              0.5555555555555556,
              "#d8576b"
             ],
             [
              0.6666666666666666,
              "#ed7953"
             ],
             [
              0.7777777777777778,
              "#fb9f3a"
             ],
             [
              0.8888888888888888,
              "#fdca26"
             ],
             [
              1,
              "#f0f921"
             ]
            ],
            "type": "contour"
           }
          ],
          "contourcarpet": [
           {
            "colorbar": {
             "outlinewidth": 0,
             "ticks": ""
            },
            "type": "contourcarpet"
           }
          ],
          "heatmap": [
           {
            "colorbar": {
             "outlinewidth": 0,
             "ticks": ""
            },
            "colorscale": [
             [
              0,
              "#0d0887"
             ],
             [
              0.1111111111111111,
              "#46039f"
             ],
             [
              0.2222222222222222,
              "#7201a8"
             ],
             [
              0.3333333333333333,
              "#9c179e"
             ],
             [
              0.4444444444444444,
              "#bd3786"
             ],
             [
              0.5555555555555556,
              "#d8576b"
             ],
             [
              0.6666666666666666,
              "#ed7953"
             ],
             [
              0.7777777777777778,
              "#fb9f3a"
             ],
             [
              0.8888888888888888,
              "#fdca26"
             ],
             [
              1,
              "#f0f921"
             ]
            ],
            "type": "heatmap"
           }
          ],
          "heatmapgl": [
           {
            "colorbar": {
             "outlinewidth": 0,
             "ticks": ""
            },
            "colorscale": [
             [
              0,
              "#0d0887"
             ],
             [
              0.1111111111111111,
              "#46039f"
             ],
             [
              0.2222222222222222,
              "#7201a8"
             ],
             [
              0.3333333333333333,
              "#9c179e"
             ],
             [
              0.4444444444444444,
              "#bd3786"
             ],
             [
              0.5555555555555556,
              "#d8576b"
             ],
             [
              0.6666666666666666,
              "#ed7953"
             ],
             [
              0.7777777777777778,
              "#fb9f3a"
             ],
             [
              0.8888888888888888,
              "#fdca26"
             ],
             [
              1,
              "#f0f921"
             ]
            ],
            "type": "heatmapgl"
           }
          ],
          "histogram": [
           {
            "marker": {
             "pattern": {
              "fillmode": "overlay",
              "size": 10,
              "solidity": 0.2
             }
            },
            "type": "histogram"
           }
          ],
          "histogram2d": [
           {
            "colorbar": {
             "outlinewidth": 0,
             "ticks": ""
            },
            "colorscale": [
             [
              0,
              "#0d0887"
             ],
             [
              0.1111111111111111,
              "#46039f"
             ],
             [
              0.2222222222222222,
              "#7201a8"
             ],
             [
              0.3333333333333333,
              "#9c179e"
             ],
             [
              0.4444444444444444,
              "#bd3786"
             ],
             [
              0.5555555555555556,
              "#d8576b"
             ],
             [
              0.6666666666666666,
              "#ed7953"
             ],
             [
              0.7777777777777778,
              "#fb9f3a"
             ],
             [
              0.8888888888888888,
              "#fdca26"
             ],
             [
              1,
              "#f0f921"
             ]
            ],
            "type": "histogram2d"
           }
          ],
          "histogram2dcontour": [
           {
            "colorbar": {
             "outlinewidth": 0,
             "ticks": ""
            },
            "colorscale": [
             [
              0,
              "#0d0887"
             ],
             [
              0.1111111111111111,
              "#46039f"
             ],
             [
              0.2222222222222222,
              "#7201a8"
             ],
             [
              0.3333333333333333,
              "#9c179e"
             ],
             [
              0.4444444444444444,
              "#bd3786"
             ],
             [
              0.5555555555555556,
              "#d8576b"
             ],
             [
              0.6666666666666666,
              "#ed7953"
             ],
             [
              0.7777777777777778,
              "#fb9f3a"
             ],
             [
              0.8888888888888888,
              "#fdca26"
             ],
             [
              1,
              "#f0f921"
             ]
            ],
            "type": "histogram2dcontour"
           }
          ],
          "mesh3d": [
           {
            "colorbar": {
             "outlinewidth": 0,
             "ticks": ""
            },
            "type": "mesh3d"
           }
          ],
          "parcoords": [
           {
            "line": {
             "colorbar": {
              "outlinewidth": 0,
              "ticks": ""
             }
            },
            "type": "parcoords"
           }
          ],
          "pie": [
           {
            "automargin": true,
            "type": "pie"
           }
          ],
          "scatter": [
           {
            "fillpattern": {
             "fillmode": "overlay",
             "size": 10,
             "solidity": 0.2
            },
            "type": "scatter"
           }
          ],
          "scatter3d": [
           {
            "line": {
             "colorbar": {
              "outlinewidth": 0,
              "ticks": ""
             }
            },
            "marker": {
             "colorbar": {
              "outlinewidth": 0,
              "ticks": ""
             }
            },
            "type": "scatter3d"
           }
          ],
          "scattercarpet": [
           {
            "marker": {
             "colorbar": {
              "outlinewidth": 0,
              "ticks": ""
             }
            },
            "type": "scattercarpet"
           }
          ],
          "scattergeo": [
           {
            "marker": {
             "colorbar": {
              "outlinewidth": 0,
              "ticks": ""
             }
            },
            "type": "scattergeo"
           }
          ],
          "scattergl": [
           {
            "marker": {
             "colorbar": {
              "outlinewidth": 0,
              "ticks": ""
             }
            },
            "type": "scattergl"
           }
          ],
          "scattermapbox": [
           {
            "marker": {
             "colorbar": {
              "outlinewidth": 0,
              "ticks": ""
             }
            },
            "type": "scattermapbox"
           }
          ],
          "scatterpolar": [
           {
            "marker": {
             "colorbar": {
              "outlinewidth": 0,
              "ticks": ""
             }
            },
            "type": "scatterpolar"
           }
          ],
          "scatterpolargl": [
           {
            "marker": {
             "colorbar": {
              "outlinewidth": 0,
              "ticks": ""
             }
            },
            "type": "scatterpolargl"
           }
          ],
          "scatterternary": [
           {
            "marker": {
             "colorbar": {
              "outlinewidth": 0,
              "ticks": ""
             }
            },
            "type": "scatterternary"
           }
          ],
          "surface": [
           {
            "colorbar": {
             "outlinewidth": 0,
             "ticks": ""
            },
            "colorscale": [
             [
              0,
              "#0d0887"
             ],
             [
              0.1111111111111111,
              "#46039f"
             ],
             [
              0.2222222222222222,
              "#7201a8"
             ],
             [
              0.3333333333333333,
              "#9c179e"
             ],
             [
              0.4444444444444444,
              "#bd3786"
             ],
             [
              0.5555555555555556,
              "#d8576b"
             ],
             [
              0.6666666666666666,
              "#ed7953"
             ],
             [
              0.7777777777777778,
              "#fb9f3a"
             ],
             [
              0.8888888888888888,
              "#fdca26"
             ],
             [
              1,
              "#f0f921"
             ]
            ],
            "type": "surface"
           }
          ],
          "table": [
           {
            "cells": {
             "fill": {
              "color": "#EBF0F8"
             },
             "line": {
              "color": "white"
             }
            },
            "header": {
             "fill": {
              "color": "#C8D4E3"
             },
             "line": {
              "color": "white"
             }
            },
            "type": "table"
           }
          ]
         },
         "layout": {
          "annotationdefaults": {
           "arrowcolor": "#2a3f5f",
           "arrowhead": 0,
           "arrowwidth": 1
          },
          "autotypenumbers": "strict",
          "coloraxis": {
           "colorbar": {
            "outlinewidth": 0,
            "ticks": ""
           }
          },
          "colorscale": {
           "diverging": [
            [
             0,
             "#8e0152"
            ],
            [
             0.1,
             "#c51b7d"
            ],
            [
             0.2,
             "#de77ae"
            ],
            [
             0.3,
             "#f1b6da"
            ],
            [
             0.4,
             "#fde0ef"
            ],
            [
             0.5,
             "#f7f7f7"
            ],
            [
             0.6,
             "#e6f5d0"
            ],
            [
             0.7,
             "#b8e186"
            ],
            [
             0.8,
             "#7fbc41"
            ],
            [
             0.9,
             "#4d9221"
            ],
            [
             1,
             "#276419"
            ]
           ],
           "sequential": [
            [
             0,
             "#0d0887"
            ],
            [
             0.1111111111111111,
             "#46039f"
            ],
            [
             0.2222222222222222,
             "#7201a8"
            ],
            [
             0.3333333333333333,
             "#9c179e"
            ],
            [
             0.4444444444444444,
             "#bd3786"
            ],
            [
             0.5555555555555556,
             "#d8576b"
            ],
            [
             0.6666666666666666,
             "#ed7953"
            ],
            [
             0.7777777777777778,
             "#fb9f3a"
            ],
            [
             0.8888888888888888,
             "#fdca26"
            ],
            [
             1,
             "#f0f921"
            ]
           ],
           "sequentialminus": [
            [
             0,
             "#0d0887"
            ],
            [
             0.1111111111111111,
             "#46039f"
            ],
            [
             0.2222222222222222,
             "#7201a8"
            ],
            [
             0.3333333333333333,
             "#9c179e"
            ],
            [
             0.4444444444444444,
             "#bd3786"
            ],
            [
             0.5555555555555556,
             "#d8576b"
            ],
            [
             0.6666666666666666,
             "#ed7953"
            ],
            [
             0.7777777777777778,
             "#fb9f3a"
            ],
            [
             0.8888888888888888,
             "#fdca26"
            ],
            [
             1,
             "#f0f921"
            ]
           ]
          },
          "colorway": [
           "#636efa",
           "#EF553B",
           "#00cc96",
           "#ab63fa",
           "#FFA15A",
           "#19d3f3",
           "#FF6692",
           "#B6E880",
           "#FF97FF",
           "#FECB52"
          ],
          "font": {
           "color": "#2a3f5f"
          },
          "geo": {
           "bgcolor": "white",
           "lakecolor": "white",
           "landcolor": "#E5ECF6",
           "showlakes": true,
           "showland": true,
           "subunitcolor": "white"
          },
          "hoverlabel": {
           "align": "left"
          },
          "hovermode": "closest",
          "mapbox": {
           "style": "light"
          },
          "paper_bgcolor": "white",
          "plot_bgcolor": "#E5ECF6",
          "polar": {
           "angularaxis": {
            "gridcolor": "white",
            "linecolor": "white",
            "ticks": ""
           },
           "bgcolor": "#E5ECF6",
           "radialaxis": {
            "gridcolor": "white",
            "linecolor": "white",
            "ticks": ""
           }
          },
          "scene": {
           "xaxis": {
            "backgroundcolor": "#E5ECF6",
            "gridcolor": "white",
            "gridwidth": 2,
            "linecolor": "white",
            "showbackground": true,
            "ticks": "",
            "zerolinecolor": "white"
           },
           "yaxis": {
            "backgroundcolor": "#E5ECF6",
            "gridcolor": "white",
            "gridwidth": 2,
            "linecolor": "white",
            "showbackground": true,
            "ticks": "",
            "zerolinecolor": "white"
           },
           "zaxis": {
            "backgroundcolor": "#E5ECF6",
            "gridcolor": "white",
            "gridwidth": 2,
            "linecolor": "white",
            "showbackground": true,
            "ticks": "",
            "zerolinecolor": "white"
           }
          },
          "shapedefaults": {
           "line": {
            "color": "#2a3f5f"
           }
          },
          "ternary": {
           "aaxis": {
            "gridcolor": "white",
            "linecolor": "white",
            "ticks": ""
           },
           "baxis": {
            "gridcolor": "white",
            "linecolor": "white",
            "ticks": ""
           },
           "bgcolor": "#E5ECF6",
           "caxis": {
            "gridcolor": "white",
            "linecolor": "white",
            "ticks": ""
           }
          },
          "title": {
           "x": 0.05
          },
          "xaxis": {
           "automargin": true,
           "gridcolor": "white",
           "linecolor": "white",
           "ticks": "",
           "title": {
            "standoff": 15
           },
           "zerolinecolor": "white",
           "zerolinewidth": 2
          },
          "yaxis": {
           "automargin": true,
           "gridcolor": "white",
           "linecolor": "white",
           "ticks": "",
           "title": {
            "standoff": 15
           },
           "zerolinecolor": "white",
           "zerolinewidth": 2
          }
         }
        },
        "title": {
         "text": "3D Scatter Plot of entropy for 50 samples per group and 0.005 noise"
        }
       }
      }
     },
     "metadata": {},
     "output_type": "display_data"
    }
   ],
   "source": [
    "plot_norms('entropy', 0.005, 50)"
   ]
  },
  {
   "cell_type": "code",
   "execution_count": null,
   "id": "875ac18a",
   "metadata": {},
   "outputs": [],
   "source": [
    "data, label = loadFigures(OPTION, 50, FIGURES, MAXIMUM_SAMPLES_PER_FIGURE, noise_std=0.001)\n",
    "diagrams = getPersistenceDiagrams(data)\n",
    "entropy_values = getPersistenceEntropy(diagrams)\n",
    "groups_per_figure = int(entropy_values.shape[0] / len(FIGURES))\n",
    "generateTableOfMetrics(diagrams, entropy_values, groups_per_figure, FIGURES, noise=0.001)"
   ]
  },
  {
   "cell_type": "code",
   "execution_count": null,
   "id": "4ef5519f-13f0-4697-b3f1-64ef8cf63380",
   "metadata": {},
   "outputs": [],
   "source": [
    "'''\n",
    "For every number of experiment, for every number of samples per group, for every noise value, \n",
    "-load the data and labels. Every list of data consists of samples_per_group samples of haptic data with corresponding noise value for a specific figure.\n",
    "-get the persistence diagram of each data set\n",
    "-calculate the entropy value of each data set. (for each data set an array of entropy values of each homology dimension is obtained)\n",
    "-obtain \"groups_per_figure\" : the number of entropy values per figure \n",
    "-run through the kNN algorithm to classify the data\n",
    "'''\n",
    "noise_values = {}\n",
    "test_accuracy_values = {}\n",
    "train_accuracy_values = {}\n",
    "NUM_EXPERIMENTS = 10\n",
    "for i in range(NUM_EXPERIMENTS):\n",
    "    print(f\"Experiment {i+1}\")\n",
    "    for samples_per_group in num_of_samples_per_group:\n",
    "        print(f\"\\t{samples_per_group} samples per group\")\n",
    "        if i == 0:\n",
    "            noise_values[samples_per_group] = []\n",
    "            test_accuracy_values[samples_per_group] = []\n",
    "            train_accuracy_values[samples_per_group] = []\n",
    "        noise = 0\n",
    "        noise_increment = 0.0001\n",
    "        MAX_NOISE = 0.03\n",
    "        j = 0\n",
    "        while noise <= MAX_NOISE:\n",
    "            print(f\"\\t\\tNoise used: {noise}\")\n",
    "            # Get data\n",
    "            data, labels = loadFigures(OPTION, samples_per_group, FIGURES, MAXIMUM_SAMPLES_PER_FIGURE, noise_std=noise)\n",
    "            #print(f\"\\tData shape: {data.shape}\")\n",
    "            #plot_point_cloud(data[8])\n",
    "            # Get diagrams\n",
    "            diagrams = getPersistenceDiagrams(data)\n",
    "            #print(f\"\\tDiagrams shape: {diagrams.shape}\")\n",
    "            #plot_diagram(diagrams[8])\n",
    "            # Get entropy values\n",
    "            entropy_values = getPersistenceEntropy(diagrams)\n",
    "            #print(f\"\\tEntropy values shape: {entropy_values.shape}\")\n",
    "            #persistence_images = getPersistenceImage(diagrams)\n",
    "            #print(f\"\\tPersistence images shape: {persistence_images.shape}\")\n",
    "            groups_per_figure = int(entropy_values.shape[0] / len(FIGURES))\n",
    "            # Get table of metrics\n",
    "            #generateTableOfMetrics(diagrams, entropy_values, groups_per_figure, FIGURES, noise)\n",
    "            # Plot entropy values\n",
    "            #plot3dEntropyValues(entropy_values, FIGURES, groups_per_figure, noise)\n",
    "            # Try classifying with KNN\n",
    "            result = KNN_classifications(entropy_values, labels, groups_per_figure, test_size=0.2, random_state=None)\n",
    "            print(\"\\t\\tTest accuracy of KNN: \" + str(result[\"test_accuracy\"]*100) + \"%\")\n",
    "            if i == 0:\n",
    "                test_accuracy_values[samples_per_group].append(round(result[\"test_accuracy\"]*100/NUM_EXPERIMENTS,2))\n",
    "                train_accuracy_values[samples_per_group].append(round(result[\"train_accuracy\"]*100/NUM_EXPERIMENTS,2))\n",
    "                noise_values[samples_per_group].append(noise)\n",
    "            else:\n",
    "                test_accuracy_values[samples_per_group][j] += round(result[\"test_accuracy\"]*100/NUM_EXPERIMENTS,2)\n",
    "                train_accuracy_values[samples_per_group][j] += round(result[\"train_accuracy\"]*100/NUM_EXPERIMENTS,2)\n",
    "            # Increment noise\n",
    "            j+=1\n",
    "            noise += noise_increment\n",
    "            if noise >= noise_increment*10:\n",
    "                noise_increment*=10"
   ]
  },
  {
   "cell_type": "code",
   "execution_count": 33,
   "id": "59c5f31d",
   "metadata": {},
   "outputs": [
    {
     "data": {
      "image/png": "[encoded data removed]",
      "text/plain": [
       "<Figure size 800x600 with 1 Axes>"
      ]
     },
     "metadata": {},
     "output_type": "display_data"
    }
   ],
   "source": [
    "# Plot the graph\n",
    "plt.figure(figsize=(8, 6))\n",
    "for samples_per_group in num_of_samples_per_group:\n",
    "    plt.plot(noise_values[samples_per_group], test_accuracy_values[samples_per_group], marker='o', linestyle='-', label=f\"Groups of {samples_per_group} samples\")\n",
    "\n",
    "# Set X-axis to logarithmic scale\n",
    "plt.xscale('log')\n",
    "\n",
    "# Add labels and title\n",
    "plt.xlabel(\"Noise Values\", fontsize=12)\n",
    "plt.ylabel(\"Accuracy\", fontsize=12)\n",
    "plt.title(\"Accuracy vs Noise Values\", fontsize=14)\n",
    "\n",
    "# Add a grid\n",
    "plt.grid(True, linestyle='--', alpha=0.7)\n",
    "\n",
    "# Add legend\n",
    "plt.legend()\n",
    "plt.savefig(\"Euclidean_KNN_Accuracy_vs_Noise.png\")\n",
    "\n",
    "# Show the plot\n",
    "plt.show()\n"
   ]
  },
  {
   "cell_type": "markdown",
   "id": "c2557fe8",
   "metadata": {},
   "source": [
    "## Study of centroids"
   ]
  },
  {
   "cell_type": "code",
   "execution_count": 65,
   "id": "13e90797",
   "metadata": {},
   "outputs": [],
   "source": [
    "import warnings\n",
    "\n",
    "# Suppress VisibleDeprecationWarning\n",
    "warnings.filterwarnings(\"ignore\", category=np.VisibleDeprecationWarning)"
   ]
  },
  {
   "cell_type": "code",
   "execution_count": 66,
   "id": "12f986a8",
   "metadata": {},
   "outputs": [
    {
     "name": "stdout",
     "output_type": "stream",
     "text": [
      "Experiment 1\n",
      "\t\tNoise used: 0\n",
      "\t\tNoise used: 0.0001\n",
      "\t\tNoise used: 0.0002\n",
      "\t\tNoise used: 0.00030000000000000003\n",
      "\t\tNoise used: 0.0004\n",
      "\t\tNoise used: 0.0005\n",
      "\t\tNoise used: 0.0006000000000000001\n",
      "\t\tNoise used: 0.0007000000000000001\n",
      "\t\tNoise used: 0.0008000000000000001\n",
      "\t\tNoise used: 0.0009000000000000002\n",
      "\t\tNoise used: 0.0010000000000000002\n",
      "Experiment 2\n",
      "\t\tNoise used: 0\n",
      "\t\tNoise used: 0.0001\n",
      "\t\tNoise used: 0.0002\n",
      "\t\tNoise used: 0.00030000000000000003\n",
      "\t\tNoise used: 0.0004\n",
      "\t\tNoise used: 0.0005\n",
      "\t\tNoise used: 0.0006000000000000001\n",
      "\t\tNoise used: 0.0007000000000000001\n",
      "\t\tNoise used: 0.0008000000000000001\n",
      "\t\tNoise used: 0.0009000000000000002\n",
      "\t\tNoise used: 0.0010000000000000002\n",
      "Experiment 3\n",
      "\t\tNoise used: 0\n",
      "\t\tNoise used: 0.0001\n",
      "\t\tNoise used: 0.0002\n",
      "\t\tNoise used: 0.00030000000000000003\n",
      "\t\tNoise used: 0.0004\n",
      "\t\tNoise used: 0.0005\n",
      "\t\tNoise used: 0.0006000000000000001\n",
      "\t\tNoise used: 0.0007000000000000001\n",
      "\t\tNoise used: 0.0008000000000000001\n",
      "\t\tNoise used: 0.0009000000000000002\n",
      "\t\tNoise used: 0.0010000000000000002\n",
      "Experiment 4\n",
      "\t\tNoise used: 0\n",
      "\t\tNoise used: 0.0001\n",
      "\t\tNoise used: 0.0002\n",
      "\t\tNoise used: 0.00030000000000000003\n",
      "\t\tNoise used: 0.0004\n",
      "\t\tNoise used: 0.0005\n",
      "\t\tNoise used: 0.0006000000000000001\n",
      "\t\tNoise used: 0.0007000000000000001\n",
      "\t\tNoise used: 0.0008000000000000001\n",
      "\t\tNoise used: 0.0009000000000000002\n",
      "\t\tNoise used: 0.0010000000000000002\n",
      "Experiment 5\n",
      "\t\tNoise used: 0\n",
      "\t\tNoise used: 0.0001\n",
      "\t\tNoise used: 0.0002\n",
      "\t\tNoise used: 0.00030000000000000003\n",
      "\t\tNoise used: 0.0004\n",
      "\t\tNoise used: 0.0005\n",
      "\t\tNoise used: 0.0006000000000000001\n",
      "\t\tNoise used: 0.0007000000000000001\n",
      "\t\tNoise used: 0.0008000000000000001\n",
      "\t\tNoise used: 0.0009000000000000002\n",
      "\t\tNoise used: 0.0010000000000000002\n",
      "Experiment 6\n",
      "\t\tNoise used: 0\n",
      "\t\tNoise used: 0.0001\n",
      "\t\tNoise used: 0.0002\n",
      "\t\tNoise used: 0.00030000000000000003\n",
      "\t\tNoise used: 0.0004\n",
      "\t\tNoise used: 0.0005\n",
      "\t\tNoise used: 0.0006000000000000001\n",
      "\t\tNoise used: 0.0007000000000000001\n",
      "\t\tNoise used: 0.0008000000000000001\n",
      "\t\tNoise used: 0.0009000000000000002\n",
      "\t\tNoise used: 0.0010000000000000002\n",
      "Experiment 7\n",
      "\t\tNoise used: 0\n",
      "\t\tNoise used: 0.0001\n",
      "\t\tNoise used: 0.0002\n",
      "\t\tNoise used: 0.00030000000000000003\n",
      "\t\tNoise used: 0.0004\n",
      "\t\tNoise used: 0.0005\n",
      "\t\tNoise used: 0.0006000000000000001\n",
      "\t\tNoise used: 0.0007000000000000001\n",
      "\t\tNoise used: 0.0008000000000000001\n",
      "\t\tNoise used: 0.0009000000000000002\n",
      "\t\tNoise used: 0.0010000000000000002\n",
      "Experiment 8\n",
      "\t\tNoise used: 0\n",
      "\t\tNoise used: 0.0001\n",
      "\t\tNoise used: 0.0002\n",
      "\t\tNoise used: 0.00030000000000000003\n",
      "\t\tNoise used: 0.0004\n",
      "\t\tNoise used: 0.0005\n",
      "\t\tNoise used: 0.0006000000000000001\n",
      "\t\tNoise used: 0.0007000000000000001\n",
      "\t\tNoise used: 0.0008000000000000001\n",
      "\t\tNoise used: 0.0009000000000000002\n",
      "\t\tNoise used: 0.0010000000000000002\n",
      "Experiment 9\n",
      "\t\tNoise used: 0\n",
      "\t\tNoise used: 0.0001\n",
      "\t\tNoise used: 0.0002\n",
      "\t\tNoise used: 0.00030000000000000003\n",
      "\t\tNoise used: 0.0004\n",
      "\t\tNoise used: 0.0005\n",
      "\t\tNoise used: 0.0006000000000000001\n",
      "\t\tNoise used: 0.0007000000000000001\n",
      "\t\tNoise used: 0.0008000000000000001\n",
      "\t\tNoise used: 0.0009000000000000002\n",
      "\t\tNoise used: 0.0010000000000000002\n",
      "Experiment 10\n",
      "\t\tNoise used: 0\n",
      "\t\tNoise used: 0.0001\n",
      "\t\tNoise used: 0.0002\n",
      "\t\tNoise used: 0.00030000000000000003\n",
      "\t\tNoise used: 0.0004\n",
      "\t\tNoise used: 0.0005\n",
      "\t\tNoise used: 0.0006000000000000001\n",
      "\t\tNoise used: 0.0007000000000000001\n",
      "\t\tNoise used: 0.0008000000000000001\n",
      "\t\tNoise used: 0.0009000000000000002\n",
      "\t\tNoise used: 0.0010000000000000002\n"
     ]
    }
   ],
   "source": [
    "# Best case of study in previous section\n",
    "NUM_SAMPLES_PER_GROUP = 400\n",
    "\n",
    "noise_values = []\n",
    "centroid_values = {}\n",
    "for figure in FIGURES:\n",
    "    centroid_values[figure] = []\n",
    "NUM_EXPERIMENTS = 10\n",
    "for i in range(NUM_EXPERIMENTS):\n",
    "    print(f\"Experiment {i+1}\")\n",
    "    noise = 0\n",
    "    noise_increment = 0.0001\n",
    "    MAX_NOISE = 0.0011\n",
    "    j = 0\n",
    "    while noise <= MAX_NOISE:\n",
    "        print(f\"\\t\\tNoise used: {noise}\")\n",
    "        # Get data\n",
    "        data, labels = loadFigures(OPTION, NUM_SAMPLES_PER_GROUP, FIGURES, MAXIMUM_SAMPLES_PER_FIGURE, noise_std=noise)\n",
    "        # Get diagrams\n",
    "        diagrams = getPersistenceDiagrams(data)\n",
    "        # Get entropy values\n",
    "        entropy_values = getPersistenceEntropy(diagrams)\n",
    "        groups_per_figure = int(entropy_values.shape[0] / len(FIGURES))\n",
    "        # Get table of metrics\n",
    "        table = generateTableOfMetrics(diagrams, entropy_values, groups_per_figure, FIGURES, noise)\n",
    "        for k in range(len(FIGURES)):\n",
    "            if i == 0:\n",
    "                centroid_values[FIGURES[k]].append(np.array(table[k][1])/NUM_EXPERIMENTS)\n",
    "            else:\n",
    "                centroid_values[FIGURES[k]][j] += np.array(table[k][1])/NUM_EXPERIMENTS\n",
    "        # Increment noise\n",
    "        j+=1\n",
    "        if i == 0:\n",
    "            noise_values.append(noise)\n",
    "        noise += noise_increment\n",
    "        if noise >= noise_increment*10:\n",
    "            noise_increment*=10"
   ]
  },
  {
   "cell_type": "code",
   "execution_count": 67,
   "id": "98a5e47a",
   "metadata": {},
   "outputs": [
    {
     "name": "stdout",
     "output_type": "stream",
     "text": [
      "{'lat00': [array([ 7.762, -0.982, -1.   ]), array([ 7.821, -0.79 , -0.998]), array([ 7.866, -0.385, -0.998]), array([ 7.914,  0.069, -0.998]), array([ 7.947,  0.464, -0.994]), array([ 7.988,  0.93 , -0.991]), array([ 8.022,  1.291, -0.992]), array([ 8.052,  1.572, -0.971]), array([ 8.083,  1.868, -0.975]), array([ 8.111,  2.068, -0.954]), array([ 8.132,  2.354, -0.936])], 'lat05': [array([ 7.563, -0.987, -1.   ]), array([ 7.677, -0.134, -0.998]), array([ 7.782,  1.163, -0.992]), array([ 7.866,  2.054, -0.951]), array([ 7.939,  2.645, -0.928]), array([ 8.001,  3.072, -0.899]), array([ 8.051,  3.425, -0.816]), array([ 8.093,  3.677, -0.77 ]), array([ 8.135,  3.853, -0.698]), array([ 8.169,  4.064, -0.581]), array([ 8.195,  4.21 , -0.537])], 'lat10': [array([ 7.643, -0.845, -1.   ]), array([8.478, 6.055, 2.422]), array([8.486, 6.386, 3.201]), array([8.49 , 6.526, 3.527]), array([8.489, 6.617, 3.734]), array([8.489, 6.678, 3.85 ]), array([8.489, 6.718, 3.968]), array([8.489, 6.75 , 4.048]), array([8.489, 6.784, 4.126]), array([8.49 , 6.805, 4.169]), array([8.487, 6.835, 4.224])], 'lat15': [array([ 7.241, -0.526, -1.   ]), array([7.502, 5.151, 2.241]), array([7.642, 5.253, 2.422]), array([7.756, 5.31 , 2.443]), array([7.846, 5.355, 2.439]), array([7.923, 5.402, 2.503]), array([7.979, 5.447, 2.514]), array([8.032, 5.473, 2.479]), array([8.074, 5.511, 2.525]), array([8.108, 5.561, 2.568]), array([8.14, 5.58, 2.55])], 'lat20': [array([ 7.212,  1.486, -1.   ]), array([7.353, 5.138, 2.381]), array([7.458, 5.159, 2.349]), array([7.55 , 5.175, 2.355]), array([7.627, 5.201, 2.342]), array([7.696, 5.242, 2.367]), array([7.749, 5.25 , 2.377]), array([7.807, 5.29 , 2.397]), array([7.85 , 5.326, 2.388]), array([7.894, 5.331, 2.4  ]), array([7.934, 5.359, 2.438])]}\n"
     ]
    }
   ],
   "source": [
    "print(centroid_values)"
   ]
  },
  {
   "cell_type": "code",
   "execution_count": 91,
   "id": "3a4715a5",
   "metadata": {},
   "outputs": [
    {
     "data": {
      "image/png": "[encoded data removed]",
      "text/plain": [
       "<Figure size 640x480 with 1 Axes>"
      ]
     },
     "metadata": {},
     "output_type": "display_data"
    }
   ],
   "source": [
    "plot3dGenericClasses(centroid_values, FIGURES, f\"Centroid evolution\", [\"X axis\", \"Y axis\", \"Z axis\"], x_limits= (7,8.5), y_limits=(-1.5,7), z_limits=(-2,7), colors=['g', 'y', 'b', 'k', 'grey'])"
   ]
  },
  {
   "cell_type": "markdown",
   "id": "1d274bcc",
   "metadata": {},
   "source": [
    "## Study of persistence images"
   ]
  },
  {
   "cell_type": "code",
   "execution_count": 119,
   "id": "c6338700",
   "metadata": {},
   "outputs": [
    {
     "name": "stdout",
     "output_type": "stream",
     "text": [
      "Data shape: (224, 400, 3)\n",
      "Diagrams shape: (224, 626, 3)\n",
      "Persistence images shape: (224, 3, 100, 100)\n"
     ]
    }
   ],
   "source": [
    "# Best case of study in previous section\n",
    "NUM_SAMPLES_PER_GROUP = 400\n",
    "NOISE = 0.001\n",
    "\n",
    "# Get data from datasets\n",
    "data, labels = loadFigures(OPTION, NUM_SAMPLES_PER_GROUP, FIGURES, MAXIMUM_SAMPLES_PER_FIGURE, noise_std=NOISE)\n",
    "print(f\"Data shape: {data.shape}\")\n",
    "#plot_point_cloud(data[8])\n",
    "\n",
    "# Get diagrams\n",
    "diagrams = getPersistenceDiagrams(data)\n",
    "print(f\"Diagrams shape: {diagrams.shape}\")\n",
    "#plot_diagram(diagrams[8])\n",
    "\n",
    "# Get persistence images\n",
    "persistence_images = getPersistenceImage(diagrams)\n",
    "print(f\"Persistence images shape: {persistence_images.shape}\")"
   ]
  },
  {
   "cell_type": "code",
   "execution_count": 120,
   "id": "a0714bfa",
   "metadata": {},
   "outputs": [
    {
     "data": {
      "text/plain": [
       "<matplotlib.image.AxesImage at 0x17cf803d0>"
      ]
     },
     "execution_count": 120,
     "metadata": {},
     "output_type": "execute_result"
    },
    {
     "data": {
      "image/png": "[encoded data removed]",
      "text/plain": [
       "<Figure size 640x480 with 1 Axes>"
      ]
     },
     "metadata": {},
     "output_type": "display_data"
    }
   ],
   "source": [
    "plt.figure()\n",
    "plt.imshow(persistence_images[10][0])\n",
    "#plt.imshow(persistence_images[0][0])"
   ]
  },
  {
   "cell_type": "code",
   "execution_count": 121,
   "id": "0bd0af26",
   "metadata": {},
   "outputs": [
    {
     "data": {
      "image/png": "[encoded data removed]",
      "text/plain": [
       "<Figure size 1500x900 with 15 Axes>"
      ]
     },
     "metadata": {},
     "output_type": "display_data"
    }
   ],
   "source": [
    "fig, axes = plt.subplots(nrows=3, ncols=len(FIGURES), figsize=(15, 9))  # 3 rows for dimensions, 5 columns for figures\n",
    "fig.suptitle(\"Average Persistence Images for each Figure and Dimension\", fontsize=16)\n",
    "#fig.title(f\"Groups of {NUM_SAMPLES_PER_GROUP} samples - With {NOISE} noise\", fontsize=12)\n",
    "# Compute and plot the average persistence image for each figure and dimension\n",
    "for figure in range(len(FIGURES)): \n",
    "    for dim in range(3):  \n",
    "        ax = axes[dim, figure] \n",
    "        \n",
    "        # Select persistence images for this figure\n",
    "        indices = np.where(labels == figure)[0]    \n",
    "        figure_images = persistence_images[indices]\n",
    "        \n",
    "        # Compute the average persistence image for this dimension\n",
    "        avg_images = np.mean(figure_images, axis=0) \n",
    "        \n",
    "        # Plot the average persistence image for this dimension\n",
    "        ax.imshow(avg_images[dim], cmap='Spectral')\n",
    "        if dim == 0:  # Add title for the top row (figures)\n",
    "            ax.set_title(f\"{FIGURES[figure]}\")\n",
    "        if figure == 0:  # Add labels for the leftmost column (dimensions)\n",
    "            ax.set_ylabel(f\"Dim {dim}\", fontsize=12)\n",
    "        \n",
    "        ax.axis('off') \n",
    "\n",
    "plt.tight_layout(rect=[0, 0, 1, 0.95]) \n",
    "plt.show()\n"
   ]
  },
  {
   "cell_type": "code",
   "execution_count": 122,
   "id": "6a17338a",
   "metadata": {},
   "outputs": [
    {
     "name": "stdout",
     "output_type": "stream",
     "text": [
      "KL Divergence between Figure lat00 and Figure lat05\n",
      "\tDimension 0: 0.0000\n",
      "\tDimension 1: 0.0004\n",
      "\tDimension 2: 0.0005\n",
      "KL Divergence between Figure lat00 and Figure lat10\n",
      "\tDimension 0: 0.0002\n",
      "\tDimension 1: 0.0047\n",
      "\tDimension 2: inf\n",
      "KL Divergence between Figure lat00 and Figure lat15\n",
      "\tDimension 0: 0.0001\n",
      "\tDimension 1: 0.0036\n",
      "\tDimension 2: inf\n",
      "KL Divergence between Figure lat00 and Figure lat20\n",
      "\tDimension 0: 0.0000\n",
      "\tDimension 1: 0.0039\n",
      "\tDimension 2: inf\n",
      "KL Divergence between Figure lat05 and Figure lat10\n",
      "\tDimension 0: 0.0001\n",
      "\tDimension 1: 0.0023\n",
      "\tDimension 2: inf\n",
      "KL Divergence between Figure lat05 and Figure lat15\n",
      "\tDimension 0: 0.0000\n",
      "\tDimension 1: 0.0015\n",
      "\tDimension 2: inf\n",
      "KL Divergence between Figure lat05 and Figure lat20\n",
      "\tDimension 0: 0.0000\n",
      "\tDimension 1: 0.0017\n",
      "\tDimension 2: inf\n",
      "KL Divergence between Figure lat10 and Figure lat15\n",
      "\tDimension 0: 0.0000\n",
      "\tDimension 1: 0.0001\n",
      "\tDimension 2: 0.0000\n",
      "KL Divergence between Figure lat10 and Figure lat20\n",
      "\tDimension 0: 0.0001\n",
      "\tDimension 1: 0.0000\n",
      "\tDimension 2: 0.0000\n",
      "KL Divergence between Figure lat15 and Figure lat20\n",
      "\tDimension 0: 0.0000\n",
      "\tDimension 1: 0.0000\n",
      "\tDimension 2: 0.0000\n"
     ]
    }
   ],
   "source": [
    "unique_figures = range(0,5)\n",
    "\n",
    "from scipy.stats import entropy\n",
    "\n",
    "# Normalize persistence images\n",
    "def normalize_image(image):\n",
    "    image = image - np.min(image)  # Shift to non-negative values\n",
    "    image = image / np.sum(image)  # Normalize to sum to 1\n",
    "    return image\n",
    "\n",
    "# Compute pairwise KL Divergence\n",
    "for i, figure1 in enumerate(unique_figures):\n",
    "    indices1 = np.where(labels == figure1)[0]\n",
    "    avg_images1 = np.mean(persistence_images[indices1], axis=0)  # Average for figure1\n",
    "\n",
    "    for j, figure2 in enumerate(unique_figures):\n",
    "        if i >= j:\n",
    "            continue\n",
    "\n",
    "        indices2 = np.where(labels == figure2)[0]\n",
    "        avg_images2 = np.mean(persistence_images[indices2], axis=0)  # Average for figure2\n",
    "\n",
    "        # Compute KL Divergence for each dimension\n",
    "        print(f\"KL Divergence between Figure {FIGURES[figure1]} and Figure {FIGURES[figure2]}\")\n",
    "        for dim in range(avg_images1.shape[0]):\n",
    "            img1 = normalize_image(avg_images1[dim].flatten())\n",
    "            img2 = normalize_image(avg_images2[dim].flatten())\n",
    "            kl_div = entropy(img1, img2)\n",
    "            print(f\"\\tDimension {dim}: {kl_div:.4f}\")"
   ]
  }
 ],
 "metadata": {
  "kernelspec": {
   "display_name": ".venv",
   "language": "python",
   "name": "python3"
  },
  "language_info": {
   "codemirror_mode": {
    "name": "ipython",
    "version": 3
   },
   "file_extension": ".py",
   "mimetype": "text/x-python",
   "name": "python",
   "nbconvert_exporter": "python",
   "pygments_lexer": "ipython3",
   "version": "3.12.2"
  }
 },
 "nbformat": 4,
 "nbformat_minor": 5
}
